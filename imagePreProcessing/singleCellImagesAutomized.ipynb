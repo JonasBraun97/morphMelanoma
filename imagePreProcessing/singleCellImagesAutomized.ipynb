{
 "cells": [
  {
   "cell_type": "code",
   "execution_count": 9,
   "outputs": [],
   "source": [
    "import numpy as np\n",
    "import matplotlib.pyplot as plt\n",
    "import os\n",
    "from os import listdir\n",
    "from os.path import join, isfile\n",
    "from PIL import Image\n",
    "import cv2\n",
    "import fnmatch"
   ],
   "metadata": {
    "collapsed": false,
    "pycharm": {
     "name": "#%%\n"
    }
   }
  },
  {
   "cell_type": "code",
   "execution_count": 4,
   "outputs": [],
   "source": [
    "cytoPath = '/Users/jbj7388/Library/CloudStorage/OneDrive-NorthwesternUniversity/ownProject/data/segmentationNPYfiles/scan1_WellA1/cyto'\n",
    "nucleiPath = '/Users/jbj7388/Library/CloudStorage/OneDrive-NorthwesternUniversity/ownProject/data/segmentationNPYfiles/scan1_WellA1/nuclei'\n"
   ],
   "metadata": {
    "collapsed": false,
    "pycharm": {
     "name": "#%%\n"
    }
   }
  },
  {
   "cell_type": "code",
   "execution_count": 6,
   "outputs": [],
   "source": [
    "cytoFolders = [x[0] for x in os.walk(cytoPath)]\n",
    "cytoFolders = sorted(foldersCyto)"
   ],
   "metadata": {
    "collapsed": false,
    "pycharm": {
     "name": "#%%\n"
    }
   }
  },
  {
   "cell_type": "code",
   "execution_count": 7,
   "outputs": [],
   "source": [
    "nucleiFolders= [x[0] for x in os.walk(nucleiPath)]\n",
    "nucleiFolders = sorted(nucleiFolders)"
   ],
   "metadata": {
    "collapsed": false,
    "pycharm": {
     "name": "#%%\n"
    }
   }
  },
  {
   "cell_type": "code",
   "execution_count": 10,
   "outputs": [
    {
     "data": {
      "text/plain": "['/Users/jbj7388/Library/CloudStorage/OneDrive-NorthwesternUniversity/ownProject/data/segmentationNPYfiles/scan1_WellA1/nuclei',\n '/Users/jbj7388/Library/CloudStorage/OneDrive-NorthwesternUniversity/ownProject/data/segmentationNPYfiles/scan1_WellA1/nuclei/R4_DAPI_Subregion_100_r10_c10',\n '/Users/jbj7388/Library/CloudStorage/OneDrive-NorthwesternUniversity/ownProject/data/segmentationNPYfiles/scan1_WellA1/nuclei/R4_DAPI_Subregion_10_r1_c10',\n '/Users/jbj7388/Library/CloudStorage/OneDrive-NorthwesternUniversity/ownProject/data/segmentationNPYfiles/scan1_WellA1/nuclei/R4_DAPI_Subregion_11_r2_c1',\n '/Users/jbj7388/Library/CloudStorage/OneDrive-NorthwesternUniversity/ownProject/data/segmentationNPYfiles/scan1_WellA1/nuclei/R4_DAPI_Subregion_12_r2_c2',\n '/Users/jbj7388/Library/CloudStorage/OneDrive-NorthwesternUniversity/ownProject/data/segmentationNPYfiles/scan1_WellA1/nuclei/R4_DAPI_Subregion_13_r2_c3',\n '/Users/jbj7388/Library/CloudStorage/OneDrive-NorthwesternUniversity/ownProject/data/segmentationNPYfiles/scan1_WellA1/nuclei/R4_DAPI_Subregion_14_r2_c4',\n '/Users/jbj7388/Library/CloudStorage/OneDrive-NorthwesternUniversity/ownProject/data/segmentationNPYfiles/scan1_WellA1/nuclei/R4_DAPI_Subregion_15_r2_c5',\n '/Users/jbj7388/Library/CloudStorage/OneDrive-NorthwesternUniversity/ownProject/data/segmentationNPYfiles/scan1_WellA1/nuclei/R4_DAPI_Subregion_16_r2_c6',\n '/Users/jbj7388/Library/CloudStorage/OneDrive-NorthwesternUniversity/ownProject/data/segmentationNPYfiles/scan1_WellA1/nuclei/R4_DAPI_Subregion_17_r2_c7',\n '/Users/jbj7388/Library/CloudStorage/OneDrive-NorthwesternUniversity/ownProject/data/segmentationNPYfiles/scan1_WellA1/nuclei/R4_DAPI_Subregion_18_r2_c8',\n '/Users/jbj7388/Library/CloudStorage/OneDrive-NorthwesternUniversity/ownProject/data/segmentationNPYfiles/scan1_WellA1/nuclei/R4_DAPI_Subregion_19_r2_c9',\n '/Users/jbj7388/Library/CloudStorage/OneDrive-NorthwesternUniversity/ownProject/data/segmentationNPYfiles/scan1_WellA1/nuclei/R4_DAPI_Subregion_1_r1_c1',\n '/Users/jbj7388/Library/CloudStorage/OneDrive-NorthwesternUniversity/ownProject/data/segmentationNPYfiles/scan1_WellA1/nuclei/R4_DAPI_Subregion_20_r2_c10',\n '/Users/jbj7388/Library/CloudStorage/OneDrive-NorthwesternUniversity/ownProject/data/segmentationNPYfiles/scan1_WellA1/nuclei/R4_DAPI_Subregion_21_r3_c1',\n '/Users/jbj7388/Library/CloudStorage/OneDrive-NorthwesternUniversity/ownProject/data/segmentationNPYfiles/scan1_WellA1/nuclei/R4_DAPI_Subregion_22_r3_c2',\n '/Users/jbj7388/Library/CloudStorage/OneDrive-NorthwesternUniversity/ownProject/data/segmentationNPYfiles/scan1_WellA1/nuclei/R4_DAPI_Subregion_23_r3_c3',\n '/Users/jbj7388/Library/CloudStorage/OneDrive-NorthwesternUniversity/ownProject/data/segmentationNPYfiles/scan1_WellA1/nuclei/R4_DAPI_Subregion_24_r3_c4',\n '/Users/jbj7388/Library/CloudStorage/OneDrive-NorthwesternUniversity/ownProject/data/segmentationNPYfiles/scan1_WellA1/nuclei/R4_DAPI_Subregion_25_r3_c5',\n '/Users/jbj7388/Library/CloudStorage/OneDrive-NorthwesternUniversity/ownProject/data/segmentationNPYfiles/scan1_WellA1/nuclei/R4_DAPI_Subregion_26_r3_c6',\n '/Users/jbj7388/Library/CloudStorage/OneDrive-NorthwesternUniversity/ownProject/data/segmentationNPYfiles/scan1_WellA1/nuclei/R4_DAPI_Subregion_27_r3_c7',\n '/Users/jbj7388/Library/CloudStorage/OneDrive-NorthwesternUniversity/ownProject/data/segmentationNPYfiles/scan1_WellA1/nuclei/R4_DAPI_Subregion_28_r3_c8',\n '/Users/jbj7388/Library/CloudStorage/OneDrive-NorthwesternUniversity/ownProject/data/segmentationNPYfiles/scan1_WellA1/nuclei/R4_DAPI_Subregion_29_r3_c9',\n '/Users/jbj7388/Library/CloudStorage/OneDrive-NorthwesternUniversity/ownProject/data/segmentationNPYfiles/scan1_WellA1/nuclei/R4_DAPI_Subregion_2_r1_c2',\n '/Users/jbj7388/Library/CloudStorage/OneDrive-NorthwesternUniversity/ownProject/data/segmentationNPYfiles/scan1_WellA1/nuclei/R4_DAPI_Subregion_30_r3_c10',\n '/Users/jbj7388/Library/CloudStorage/OneDrive-NorthwesternUniversity/ownProject/data/segmentationNPYfiles/scan1_WellA1/nuclei/R4_DAPI_Subregion_31_r4_c1',\n '/Users/jbj7388/Library/CloudStorage/OneDrive-NorthwesternUniversity/ownProject/data/segmentationNPYfiles/scan1_WellA1/nuclei/R4_DAPI_Subregion_32_r4_c2',\n '/Users/jbj7388/Library/CloudStorage/OneDrive-NorthwesternUniversity/ownProject/data/segmentationNPYfiles/scan1_WellA1/nuclei/R4_DAPI_Subregion_33_r4_c3',\n '/Users/jbj7388/Library/CloudStorage/OneDrive-NorthwesternUniversity/ownProject/data/segmentationNPYfiles/scan1_WellA1/nuclei/R4_DAPI_Subregion_34_r4_c4',\n '/Users/jbj7388/Library/CloudStorage/OneDrive-NorthwesternUniversity/ownProject/data/segmentationNPYfiles/scan1_WellA1/nuclei/R4_DAPI_Subregion_35_r4_c5',\n '/Users/jbj7388/Library/CloudStorage/OneDrive-NorthwesternUniversity/ownProject/data/segmentationNPYfiles/scan1_WellA1/nuclei/R4_DAPI_Subregion_36_r4_c6',\n '/Users/jbj7388/Library/CloudStorage/OneDrive-NorthwesternUniversity/ownProject/data/segmentationNPYfiles/scan1_WellA1/nuclei/R4_DAPI_Subregion_37_r4_c7',\n '/Users/jbj7388/Library/CloudStorage/OneDrive-NorthwesternUniversity/ownProject/data/segmentationNPYfiles/scan1_WellA1/nuclei/R4_DAPI_Subregion_38_r4_c8',\n '/Users/jbj7388/Library/CloudStorage/OneDrive-NorthwesternUniversity/ownProject/data/segmentationNPYfiles/scan1_WellA1/nuclei/R4_DAPI_Subregion_39_r4_c9',\n '/Users/jbj7388/Library/CloudStorage/OneDrive-NorthwesternUniversity/ownProject/data/segmentationNPYfiles/scan1_WellA1/nuclei/R4_DAPI_Subregion_3_r1_c3',\n '/Users/jbj7388/Library/CloudStorage/OneDrive-NorthwesternUniversity/ownProject/data/segmentationNPYfiles/scan1_WellA1/nuclei/R4_DAPI_Subregion_40_r4_c10',\n '/Users/jbj7388/Library/CloudStorage/OneDrive-NorthwesternUniversity/ownProject/data/segmentationNPYfiles/scan1_WellA1/nuclei/R4_DAPI_Subregion_41_r5_c1',\n '/Users/jbj7388/Library/CloudStorage/OneDrive-NorthwesternUniversity/ownProject/data/segmentationNPYfiles/scan1_WellA1/nuclei/R4_DAPI_Subregion_42_r5_c2',\n '/Users/jbj7388/Library/CloudStorage/OneDrive-NorthwesternUniversity/ownProject/data/segmentationNPYfiles/scan1_WellA1/nuclei/R4_DAPI_Subregion_43_r5_c3',\n '/Users/jbj7388/Library/CloudStorage/OneDrive-NorthwesternUniversity/ownProject/data/segmentationNPYfiles/scan1_WellA1/nuclei/R4_DAPI_Subregion_44_r5_c4',\n '/Users/jbj7388/Library/CloudStorage/OneDrive-NorthwesternUniversity/ownProject/data/segmentationNPYfiles/scan1_WellA1/nuclei/R4_DAPI_Subregion_45_r5_c5',\n '/Users/jbj7388/Library/CloudStorage/OneDrive-NorthwesternUniversity/ownProject/data/segmentationNPYfiles/scan1_WellA1/nuclei/R4_DAPI_Subregion_46_r5_c6',\n '/Users/jbj7388/Library/CloudStorage/OneDrive-NorthwesternUniversity/ownProject/data/segmentationNPYfiles/scan1_WellA1/nuclei/R4_DAPI_Subregion_47_r5_c7',\n '/Users/jbj7388/Library/CloudStorage/OneDrive-NorthwesternUniversity/ownProject/data/segmentationNPYfiles/scan1_WellA1/nuclei/R4_DAPI_Subregion_48_r5_c8',\n '/Users/jbj7388/Library/CloudStorage/OneDrive-NorthwesternUniversity/ownProject/data/segmentationNPYfiles/scan1_WellA1/nuclei/R4_DAPI_Subregion_49_r5_c9',\n '/Users/jbj7388/Library/CloudStorage/OneDrive-NorthwesternUniversity/ownProject/data/segmentationNPYfiles/scan1_WellA1/nuclei/R4_DAPI_Subregion_4_r1_c4',\n '/Users/jbj7388/Library/CloudStorage/OneDrive-NorthwesternUniversity/ownProject/data/segmentationNPYfiles/scan1_WellA1/nuclei/R4_DAPI_Subregion_50_r5_c10',\n '/Users/jbj7388/Library/CloudStorage/OneDrive-NorthwesternUniversity/ownProject/data/segmentationNPYfiles/scan1_WellA1/nuclei/R4_DAPI_Subregion_51_r6_c1',\n '/Users/jbj7388/Library/CloudStorage/OneDrive-NorthwesternUniversity/ownProject/data/segmentationNPYfiles/scan1_WellA1/nuclei/R4_DAPI_Subregion_52_r6_c2',\n '/Users/jbj7388/Library/CloudStorage/OneDrive-NorthwesternUniversity/ownProject/data/segmentationNPYfiles/scan1_WellA1/nuclei/R4_DAPI_Subregion_53_r6_c3',\n '/Users/jbj7388/Library/CloudStorage/OneDrive-NorthwesternUniversity/ownProject/data/segmentationNPYfiles/scan1_WellA1/nuclei/R4_DAPI_Subregion_54_r6_c4',\n '/Users/jbj7388/Library/CloudStorage/OneDrive-NorthwesternUniversity/ownProject/data/segmentationNPYfiles/scan1_WellA1/nuclei/R4_DAPI_Subregion_55_r6_c5',\n '/Users/jbj7388/Library/CloudStorage/OneDrive-NorthwesternUniversity/ownProject/data/segmentationNPYfiles/scan1_WellA1/nuclei/R4_DAPI_Subregion_56_r6_c6',\n '/Users/jbj7388/Library/CloudStorage/OneDrive-NorthwesternUniversity/ownProject/data/segmentationNPYfiles/scan1_WellA1/nuclei/R4_DAPI_Subregion_57_r6_c7',\n '/Users/jbj7388/Library/CloudStorage/OneDrive-NorthwesternUniversity/ownProject/data/segmentationNPYfiles/scan1_WellA1/nuclei/R4_DAPI_Subregion_58_r6_c8',\n '/Users/jbj7388/Library/CloudStorage/OneDrive-NorthwesternUniversity/ownProject/data/segmentationNPYfiles/scan1_WellA1/nuclei/R4_DAPI_Subregion_59_r6_c9',\n '/Users/jbj7388/Library/CloudStorage/OneDrive-NorthwesternUniversity/ownProject/data/segmentationNPYfiles/scan1_WellA1/nuclei/R4_DAPI_Subregion_5_r1_c5',\n '/Users/jbj7388/Library/CloudStorage/OneDrive-NorthwesternUniversity/ownProject/data/segmentationNPYfiles/scan1_WellA1/nuclei/R4_DAPI_Subregion_60_r6_c10',\n '/Users/jbj7388/Library/CloudStorage/OneDrive-NorthwesternUniversity/ownProject/data/segmentationNPYfiles/scan1_WellA1/nuclei/R4_DAPI_Subregion_61_r7_c1',\n '/Users/jbj7388/Library/CloudStorage/OneDrive-NorthwesternUniversity/ownProject/data/segmentationNPYfiles/scan1_WellA1/nuclei/R4_DAPI_Subregion_62_r7_c2',\n '/Users/jbj7388/Library/CloudStorage/OneDrive-NorthwesternUniversity/ownProject/data/segmentationNPYfiles/scan1_WellA1/nuclei/R4_DAPI_Subregion_63_r7_c3',\n '/Users/jbj7388/Library/CloudStorage/OneDrive-NorthwesternUniversity/ownProject/data/segmentationNPYfiles/scan1_WellA1/nuclei/R4_DAPI_Subregion_64_r7_c4',\n '/Users/jbj7388/Library/CloudStorage/OneDrive-NorthwesternUniversity/ownProject/data/segmentationNPYfiles/scan1_WellA1/nuclei/R4_DAPI_Subregion_65_r7_c5',\n '/Users/jbj7388/Library/CloudStorage/OneDrive-NorthwesternUniversity/ownProject/data/segmentationNPYfiles/scan1_WellA1/nuclei/R4_DAPI_Subregion_66_r7_c6',\n '/Users/jbj7388/Library/CloudStorage/OneDrive-NorthwesternUniversity/ownProject/data/segmentationNPYfiles/scan1_WellA1/nuclei/R4_DAPI_Subregion_67_r7_c7',\n '/Users/jbj7388/Library/CloudStorage/OneDrive-NorthwesternUniversity/ownProject/data/segmentationNPYfiles/scan1_WellA1/nuclei/R4_DAPI_Subregion_68_r7_c8',\n '/Users/jbj7388/Library/CloudStorage/OneDrive-NorthwesternUniversity/ownProject/data/segmentationNPYfiles/scan1_WellA1/nuclei/R4_DAPI_Subregion_69_r7_c9',\n '/Users/jbj7388/Library/CloudStorage/OneDrive-NorthwesternUniversity/ownProject/data/segmentationNPYfiles/scan1_WellA1/nuclei/R4_DAPI_Subregion_6_r1_c6',\n '/Users/jbj7388/Library/CloudStorage/OneDrive-NorthwesternUniversity/ownProject/data/segmentationNPYfiles/scan1_WellA1/nuclei/R4_DAPI_Subregion_70_r7_c10',\n '/Users/jbj7388/Library/CloudStorage/OneDrive-NorthwesternUniversity/ownProject/data/segmentationNPYfiles/scan1_WellA1/nuclei/R4_DAPI_Subregion_71_r8_c1',\n '/Users/jbj7388/Library/CloudStorage/OneDrive-NorthwesternUniversity/ownProject/data/segmentationNPYfiles/scan1_WellA1/nuclei/R4_DAPI_Subregion_72_r8_c2',\n '/Users/jbj7388/Library/CloudStorage/OneDrive-NorthwesternUniversity/ownProject/data/segmentationNPYfiles/scan1_WellA1/nuclei/R4_DAPI_Subregion_73_r8_c3',\n '/Users/jbj7388/Library/CloudStorage/OneDrive-NorthwesternUniversity/ownProject/data/segmentationNPYfiles/scan1_WellA1/nuclei/R4_DAPI_Subregion_74_r8_c4',\n '/Users/jbj7388/Library/CloudStorage/OneDrive-NorthwesternUniversity/ownProject/data/segmentationNPYfiles/scan1_WellA1/nuclei/R4_DAPI_Subregion_75_r8_c5',\n '/Users/jbj7388/Library/CloudStorage/OneDrive-NorthwesternUniversity/ownProject/data/segmentationNPYfiles/scan1_WellA1/nuclei/R4_DAPI_Subregion_76_r8_c6',\n '/Users/jbj7388/Library/CloudStorage/OneDrive-NorthwesternUniversity/ownProject/data/segmentationNPYfiles/scan1_WellA1/nuclei/R4_DAPI_Subregion_77_r8_c7',\n '/Users/jbj7388/Library/CloudStorage/OneDrive-NorthwesternUniversity/ownProject/data/segmentationNPYfiles/scan1_WellA1/nuclei/R4_DAPI_Subregion_78_r8_c8',\n '/Users/jbj7388/Library/CloudStorage/OneDrive-NorthwesternUniversity/ownProject/data/segmentationNPYfiles/scan1_WellA1/nuclei/R4_DAPI_Subregion_79_r8_c9',\n '/Users/jbj7388/Library/CloudStorage/OneDrive-NorthwesternUniversity/ownProject/data/segmentationNPYfiles/scan1_WellA1/nuclei/R4_DAPI_Subregion_7_r1_c7',\n '/Users/jbj7388/Library/CloudStorage/OneDrive-NorthwesternUniversity/ownProject/data/segmentationNPYfiles/scan1_WellA1/nuclei/R4_DAPI_Subregion_80_r8_c10',\n '/Users/jbj7388/Library/CloudStorage/OneDrive-NorthwesternUniversity/ownProject/data/segmentationNPYfiles/scan1_WellA1/nuclei/R4_DAPI_Subregion_81_r9_c1',\n '/Users/jbj7388/Library/CloudStorage/OneDrive-NorthwesternUniversity/ownProject/data/segmentationNPYfiles/scan1_WellA1/nuclei/R4_DAPI_Subregion_82_r9_c2',\n '/Users/jbj7388/Library/CloudStorage/OneDrive-NorthwesternUniversity/ownProject/data/segmentationNPYfiles/scan1_WellA1/nuclei/R4_DAPI_Subregion_83_r9_c3',\n '/Users/jbj7388/Library/CloudStorage/OneDrive-NorthwesternUniversity/ownProject/data/segmentationNPYfiles/scan1_WellA1/nuclei/R4_DAPI_Subregion_84_r9_c4',\n '/Users/jbj7388/Library/CloudStorage/OneDrive-NorthwesternUniversity/ownProject/data/segmentationNPYfiles/scan1_WellA1/nuclei/R4_DAPI_Subregion_85_r9_c5',\n '/Users/jbj7388/Library/CloudStorage/OneDrive-NorthwesternUniversity/ownProject/data/segmentationNPYfiles/scan1_WellA1/nuclei/R4_DAPI_Subregion_86_r9_c6',\n '/Users/jbj7388/Library/CloudStorage/OneDrive-NorthwesternUniversity/ownProject/data/segmentationNPYfiles/scan1_WellA1/nuclei/R4_DAPI_Subregion_87_r9_c7',\n '/Users/jbj7388/Library/CloudStorage/OneDrive-NorthwesternUniversity/ownProject/data/segmentationNPYfiles/scan1_WellA1/nuclei/R4_DAPI_Subregion_88_r9_c8',\n '/Users/jbj7388/Library/CloudStorage/OneDrive-NorthwesternUniversity/ownProject/data/segmentationNPYfiles/scan1_WellA1/nuclei/R4_DAPI_Subregion_89_r9_c9',\n '/Users/jbj7388/Library/CloudStorage/OneDrive-NorthwesternUniversity/ownProject/data/segmentationNPYfiles/scan1_WellA1/nuclei/R4_DAPI_Subregion_8_r1_c8',\n '/Users/jbj7388/Library/CloudStorage/OneDrive-NorthwesternUniversity/ownProject/data/segmentationNPYfiles/scan1_WellA1/nuclei/R4_DAPI_Subregion_90_r9_c10',\n '/Users/jbj7388/Library/CloudStorage/OneDrive-NorthwesternUniversity/ownProject/data/segmentationNPYfiles/scan1_WellA1/nuclei/R4_DAPI_Subregion_91_r10_c1',\n '/Users/jbj7388/Library/CloudStorage/OneDrive-NorthwesternUniversity/ownProject/data/segmentationNPYfiles/scan1_WellA1/nuclei/R4_DAPI_Subregion_92_r10_c2',\n '/Users/jbj7388/Library/CloudStorage/OneDrive-NorthwesternUniversity/ownProject/data/segmentationNPYfiles/scan1_WellA1/nuclei/R4_DAPI_Subregion_93_r10_c3',\n '/Users/jbj7388/Library/CloudStorage/OneDrive-NorthwesternUniversity/ownProject/data/segmentationNPYfiles/scan1_WellA1/nuclei/R4_DAPI_Subregion_94_r10_c4',\n '/Users/jbj7388/Library/CloudStorage/OneDrive-NorthwesternUniversity/ownProject/data/segmentationNPYfiles/scan1_WellA1/nuclei/R4_DAPI_Subregion_95_r10_c5',\n '/Users/jbj7388/Library/CloudStorage/OneDrive-NorthwesternUniversity/ownProject/data/segmentationNPYfiles/scan1_WellA1/nuclei/R4_DAPI_Subregion_96_r10_c6',\n '/Users/jbj7388/Library/CloudStorage/OneDrive-NorthwesternUniversity/ownProject/data/segmentationNPYfiles/scan1_WellA1/nuclei/R4_DAPI_Subregion_97_r10_c7',\n '/Users/jbj7388/Library/CloudStorage/OneDrive-NorthwesternUniversity/ownProject/data/segmentationNPYfiles/scan1_WellA1/nuclei/R4_DAPI_Subregion_98_r10_c8',\n '/Users/jbj7388/Library/CloudStorage/OneDrive-NorthwesternUniversity/ownProject/data/segmentationNPYfiles/scan1_WellA1/nuclei/R4_DAPI_Subregion_99_r10_c9',\n '/Users/jbj7388/Library/CloudStorage/OneDrive-NorthwesternUniversity/ownProject/data/segmentationNPYfiles/scan1_WellA1/nuclei/R4_DAPI_Subregion_9_r1_c9']"
     },
     "execution_count": 10,
     "metadata": {},
     "output_type": "execute_result"
    }
   ],
   "source": [
    "nucleiFolders"
   ],
   "metadata": {
    "collapsed": false,
    "pycharm": {
     "name": "#%%\n"
    }
   }
  },
  {
   "cell_type": "code",
   "execution_count": null,
   "outputs": [],
   "source": [
    "os.chdir(cytoPath)\n",
    "files = [f for f in listdir(cytoPath) if isfile(join(cytoPath, f))]\n",
    "datafolderCyto = [np.load(f, allow_pickle=True).item() for f in files ]\n",
    "os.chdir(nucleiPath)\n",
    "files = [f for f in listdir(nucleiPath) if isfile(join(nucleiPath, f))]\n",
    "datafolderNuclei = [np.load(f, allow_pickle=True).item() for f in files ]"
   ],
   "metadata": {
    "collapsed": false,
    "pycharm": {
     "name": "#%%\n"
    }
   }
  },
  {
   "cell_type": "code",
   "execution_count": 18,
   "outputs": [],
   "source": [
    "xLengthMax, yLengthMax = 512, 512"
   ],
   "metadata": {
    "collapsed": false,
    "pycharm": {
     "name": "#%%\n"
    }
   }
  },
  {
   "cell_type": "code",
   "execution_count": 21,
   "outputs": [
    {
     "data": {
      "text/plain": "(array([2342., 3981., 2795., 1570.,  703.,  294.,  112.,   40.,   13.,\n           4.]),\n array([ 47. ,  82.4, 117.8, 153.2, 188.6, 224. , 259.4, 294.8, 330.2,\n        365.6, 401. ]),\n <BarContainer object of 10 artists>)"
     },
     "execution_count": 21,
     "metadata": {},
     "output_type": "execute_result"
    },
    {
     "data": {
      "text/plain": "<Figure size 432x288 with 1 Axes>",
      "image/png": "[encoded data removed]"
     },
     "metadata": {
      "needs_background": "light"
     },
     "output_type": "display_data"
    }
   ],
   "source": [
    "plt.hist(lengths)"
   ],
   "metadata": {
    "collapsed": false,
    "pycharm": {
     "name": "#%%\n"
    }
   }
  },
  {
   "cell_type": "code",
   "execution_count": 22,
   "outputs": [],
   "source": [
    "list = np.arange(1,8)"
   ],
   "metadata": {
    "collapsed": false,
    "pycharm": {
     "name": "#%%\n"
    }
   }
  },
  {
   "cell_type": "code",
   "execution_count": 27,
   "outputs": [
    {
     "name": "stdout",
     "output_type": "stream",
     "text": [
      "1\n",
      "2\n",
      "3\n",
      "4\n",
      "5\n",
      "6\n",
      "7\n",
      "8\n",
      "9\n",
      "10\n"
     ]
    }
   ],
   "source": [
    "for i in range(1,11):\n",
    "    print(i)"
   ],
   "metadata": {
    "collapsed": false,
    "pycharm": {
     "name": "#%%\n"
    }
   }
  },
  {
   "cell_type": "code",
   "execution_count": 28,
   "outputs": [
    {
     "ename": "IndexError",
     "evalue": "list index out of range",
     "output_type": "error",
     "traceback": [
      "\u001B[0;31m---------------------------------------------------------------------------\u001B[0m",
      "\u001B[0;31mIndexError\u001B[0m                                Traceback (most recent call last)",
      "Input \u001B[0;32mIn [28]\u001B[0m, in \u001B[0;36m<cell line: 3>\u001B[0;34m()\u001B[0m\n\u001B[1;32m     19\u001B[0m cytoMasks \u001B[38;5;241m=\u001B[39m data[\u001B[38;5;124m'\u001B[39m\u001B[38;5;124mmasks\u001B[39m\u001B[38;5;124m'\u001B[39m]\n\u001B[1;32m     20\u001B[0m cytoValues \u001B[38;5;241m=\u001B[39m np\u001B[38;5;241m.\u001B[39munique(cytoMasks)\n\u001B[0;32m---> 21\u001B[0m data \u001B[38;5;241m=\u001B[39m \u001B[43mnucleiDatafolder\u001B[49m\u001B[43m[\u001B[49m\u001B[43mi\u001B[49m\u001B[43m]\u001B[49m\n\u001B[1;32m     22\u001B[0m nucleiMasks \u001B[38;5;241m=\u001B[39m data[\u001B[38;5;124m'\u001B[39m\u001B[38;5;124mmasks\u001B[39m\u001B[38;5;124m'\u001B[39m]\n\u001B[1;32m     23\u001B[0m nucleiValues \u001B[38;5;241m=\u001B[39m np\u001B[38;5;241m.\u001B[39munique(nucleiMasks)\n",
      "\u001B[0;31mIndexError\u001B[0m: list index out of range"
     ]
    }
   ],
   "source": [
    "lengths = []\n",
    "\n",
    "for r in range(2,11):\n",
    "    for c in range(1,11):\n",
    "        if (r != 0) & (c!=0):\n",
    "            pattern = \"*r\" + str(r) +\"_c\" + str(c)\n",
    "            cytoFolder = fnmatch.filter(cytoFolders, pattern)\n",
    "            nucleiFolder = fnmatch.filter(nucleiFolders, pattern)\n",
    "\n",
    "            os.chdir(cytoFolder[0])\n",
    "            files = [f for f in listdir(cytoFolder[0]) if isfile(join(cytoFolder[0], f))]\n",
    "            cytoDatafolder = [np.load(f, allow_pickle=True).item() for f in files ]\n",
    "            os.chdir(nucleiFolder[0])\n",
    "            files = [f for f in listdir(nucleiFolder[0]) if isfile(join(nucleiFolder[0], f))]\n",
    "            nucleiDatafolder = [np.load(f, allow_pickle=True).item() for f in files ]\n",
    "\n",
    "            for i in range(len(cytoDatafolder)):\n",
    "                data = cytoDatafolder[i]\n",
    "                cytoMasks = data['masks']\n",
    "                cytoValues = np.unique(cytoMasks)\n",
    "                data = nucleiDatafolder[i]\n",
    "                nucleiMasks = data['masks']\n",
    "                nucleiValues = np.unique(nucleiMasks)\n",
    "\n",
    "                minCoord = np.arange(10)\n",
    "                maxCoordy = np.arange(cytoMasks.shape[0] - 11, cytoMasks.shape[0])\n",
    "                maxCoordx = np.arange(cytoMasks.shape[1] - 11, cytoMasks.shape[1])\n",
    "\n",
    "                for j in cytoValues:\n",
    "                    if j!= 0:\n",
    "                        cytoMask = np.where(cytoMasks == j)\n",
    "                        nucleiInCyto = np.unique(nucleiMasks[cytoMask[0], cytoMask[1]])\n",
    "                        if len(nucleiInCyto[nucleiInCyto != 0]) == 1:\n",
    "                            nucleiID = nucleiInCyto[nucleiInCyto != 0][0]\n",
    "                            nucleiCoord = np.where(nucleiMasks == nucleiID)\n",
    "                            if len(np.unique(cytoMasks[nucleiCoord[0], nucleiCoord[1]])) == 1:\n",
    "                                fullImageCyto = np.zeros((yLengthMax, xLengthMax), dtype= 'uint8')\n",
    "                                fullImageNuclei = np.zeros((yLengthMax, xLengthMax), dtype= 'uint8')\n",
    "                                empty = np.zeros((yLengthMax, xLengthMax), dtype= 'uint8')\n",
    "\n",
    "                                xmin, ymin = cytoMask[1].min(), cytoMask[0].min()\n",
    "                                xmax, ymax = cytoMask[1].max(), cytoMask[0].max()\n",
    "                                if  ((xmax -xmin) <= xLengthMax) & ((ymax -ymin) <= yLengthMax) & (xmin not in minCoord) & (ymin not in minCoord) & (xmax not in maxCoordx) & (ymax not in maxCoordy):\n",
    "                                    if ((xmax -xmin) >= (ymax -ymin)):\n",
    "                                        lengths.append((xmax -xmin))\n",
    "                                    else:\n",
    "                                        lengths.append((ymax -ymin))\n",
    "\n",
    "                                    cellImage = cytoMasks[ymin:ymax, xmin:xmax].copy()\n",
    "                                    cellImage[cellImage != j] = 0\n",
    "                                    cellImage[cellImage == j] = 255\n",
    "                                    cellImage = np.asarray(cellImage, dtype = 'uint8')\n",
    "\n",
    "                                    nucleiImage = nucleiMasks[ymin:ymax, xmin:xmax].copy()\n",
    "                                    nucleiImage[nucleiImage != nucleiID] = 0\n",
    "                                    nucleiImage[nucleiImage == nucleiID] = 255\n",
    "                                    nucleiImage = np.asarray(nucleiImage, dtype = 'uint8')\n",
    "\n",
    "\n",
    "                                    xshift, yshift = int((xLengthMax - xmax + xmin)/2), int((yLengthMax - ymax + ymin)/2)\n",
    "                                    fullImageCyto[yshift:yshift + ymax - ymin, xshift: xshift + xmax - xmin] = cellImage\n",
    "                                    fullImageNuclei[yshift:yshift + ymax - ymin, xshift: xshift + xmax - xmin] = nucleiImage\n",
    "                                    mergeFullImage = cv2.merge([fullImageCyto, fullImageNuclei, empty])\n",
    "                                    im = Image.fromarray(mergeFullImage)\n",
    "                                    filename =  'SingleCellImage_r' + str(r) + '_c' + str(c) + '_n' + str(j) + '.png'\n",
    "                                    os.chdir('/Users/jbj7388/Library/CloudStorage/OneDrive-NorthwesternUniversity/ownProject/data/singleCellImagesNuclei/scan1_WellA1')\n",
    "                                    im.save(filename)"
   ],
   "metadata": {
    "collapsed": false,
    "pycharm": {
     "name": "#%%\n"
    }
   }
  },
  {
   "cell_type": "code",
   "execution_count": 14,
   "outputs": [],
   "source": [
    "dataCyto = datafolderCyto[0]\n",
    "masksCyto = dataCyto['masks']\n",
    "valuesCyto = np.unique(masksCyto)\n",
    "maskCyto = np.where(masksCyto == 300)"
   ],
   "metadata": {
    "collapsed": false,
    "pycharm": {
     "name": "#%%\n"
    }
   }
  },
  {
   "cell_type": "code",
   "execution_count": 16,
   "outputs": [],
   "source": [
    "dataNuclei = datafolderNuclei[0]\n",
    "masksNuclei = dataNuclei['masks']\n"
   ],
   "metadata": {
    "collapsed": false,
    "pycharm": {
     "name": "#%%\n"
    }
   }
  },
  {
   "cell_type": "code",
   "execution_count": 17,
   "outputs": [
    {
     "data": {
      "text/plain": "array([300], dtype=uint16)"
     },
     "execution_count": 17,
     "metadata": {},
     "output_type": "execute_result"
    }
   ],
   "source": [
    "np.unique(masksCyto[maskCyto[0], maskCyto[1]])"
   ],
   "metadata": {
    "collapsed": false,
    "pycharm": {
     "name": "#%%\n"
    }
   }
  },
  {
   "cell_type": "code",
   "execution_count": 29,
   "outputs": [],
   "source": [
    "fullImage = np.zeros((yLengthMax, xLengthMax), dtype= 'uint8')"
   ],
   "metadata": {
    "collapsed": false,
    "pycharm": {
     "name": "#%%\n"
    }
   }
  },
  {
   "cell_type": "code",
   "execution_count": 39,
   "outputs": [],
   "source": [
    "numbers = np.unique(masksNuclei[maskCyto[0], maskCyto[1]])"
   ],
   "metadata": {
    "collapsed": false,
    "pycharm": {
     "name": "#%%\n"
    }
   }
  },
  {
   "cell_type": "code",
   "execution_count": 42,
   "outputs": [],
   "source": [
    "numbers = numbers[numbers != 0][1]"
   ],
   "metadata": {
    "collapsed": false,
    "pycharm": {
     "name": "#%%\n"
    }
   }
  },
  {
   "cell_type": "code",
   "execution_count": 43,
   "outputs": [
    {
     "data": {
      "text/plain": "401"
     },
     "execution_count": 43,
     "metadata": {},
     "output_type": "execute_result"
    }
   ],
   "source": [
    "numbers"
   ],
   "metadata": {
    "collapsed": false,
    "pycharm": {
     "name": "#%%\n"
    }
   }
  },
  {
   "cell_type": "code",
   "execution_count": 26,
   "outputs": [],
   "source": [
    "imageNuclei = dataNuclei['img']"
   ],
   "metadata": {
    "collapsed": false,
    "pycharm": {
     "name": "#%%\n"
    }
   }
  },
  {
   "cell_type": "code",
   "execution_count": 44,
   "outputs": [],
   "source": [
    "mask401 = np.where(masksNuclei != 401)"
   ],
   "metadata": {
    "collapsed": false,
    "pycharm": {
     "name": "#%%\n"
    }
   }
  },
  {
   "cell_type": "code",
   "execution_count": 45,
   "outputs": [],
   "source": [
    "imageNucleiTest = imageNuclei.copy()"
   ],
   "metadata": {
    "collapsed": false,
    "pycharm": {
     "name": "#%%\n"
    }
   }
  },
  {
   "cell_type": "code",
   "execution_count": 46,
   "outputs": [],
   "source": [
    "imageNucleiTest[mask401[0], mask401[1]] = 0"
   ],
   "metadata": {
    "collapsed": false,
    "pycharm": {
     "name": "#%%\n"
    }
   }
  },
  {
   "cell_type": "code",
   "execution_count": 51,
   "outputs": [
    {
     "data": {
      "text/plain": "4245"
     },
     "execution_count": 51,
     "metadata": {},
     "output_type": "execute_result"
    }
   ],
   "source": [
    "imageNucleiTest.max()"
   ],
   "metadata": {
    "collapsed": false,
    "pycharm": {
     "name": "#%%\n"
    }
   }
  },
  {
   "cell_type": "code",
   "execution_count": 28,
   "outputs": [
    {
     "data": {
      "text/plain": "array([2134, 2077, 2015, ..., 2654, 2599, 2530], dtype=uint16)"
     },
     "execution_count": 28,
     "metadata": {},
     "output_type": "execute_result"
    }
   ],
   "source": [
    "imageNuclei[mask401[0], mask401[1]]"
   ],
   "metadata": {
    "collapsed": false,
    "pycharm": {
     "name": "#%%\n"
    }
   }
  },
  {
   "cell_type": "code",
   "execution_count": null,
   "outputs": [],
   "source": [],
   "metadata": {
    "collapsed": false,
    "pycharm": {
     "name": "#%%\n"
    }
   }
  },
  {
   "cell_type": "code",
   "execution_count": 25,
   "outputs": [
    {
     "name": "stdout",
     "output_type": "stream",
     "text": [
      "False\n"
     ]
    }
   ],
   "source": [
    "if(len(numbers) == 1):\n",
    "    print(True)\n",
    "else:\n",
    "    print(False)"
   ],
   "metadata": {
    "collapsed": false,
    "pycharm": {
     "name": "#%%\n"
    }
   }
  },
  {
   "cell_type": "code",
   "execution_count": 4,
   "outputs": [],
   "source": [
    "os.chdir('/Users/jones/Downloads/test')"
   ],
   "metadata": {
    "collapsed": false,
    "pycharm": {
     "name": "#%%\n"
    }
   }
  },
  {
   "cell_type": "code",
   "execution_count": 6,
   "outputs": [],
   "source": [
    "data = datafolderCyto[0]\n",
    "masksCyto = data['masks']\n",
    "valuesCyto = np.unique(masksCyto)\n",
    "data = datafolderNuclei[0]\n",
    "masksNuclei = data['masks']\n",
    "values = np.unique(masksCyto)"
   ],
   "metadata": {
    "collapsed": false,
    "pycharm": {
     "name": "#%%\n"
    }
   }
  },
  {
   "cell_type": "code",
   "execution_count": 10,
   "outputs": [],
   "source": [
    "maxCoordx = np.arange(masksCyto.shape[1] - 11, masksCyto.shape[1])"
   ],
   "metadata": {
    "collapsed": false,
    "pycharm": {
     "name": "#%%\n"
    }
   }
  },
  {
   "cell_type": "code",
   "execution_count": 11,
   "outputs": [
    {
     "data": {
      "text/plain": "array([7135, 7136, 7137, 7138, 7139, 7140, 7141, 7142, 7143, 7144, 7145])"
     },
     "execution_count": 11,
     "metadata": {},
     "output_type": "execute_result"
    }
   ],
   "source": [
    "maxCoordx"
   ],
   "metadata": {
    "collapsed": false,
    "pycharm": {
     "name": "#%%\n"
    }
   }
  },
  {
   "cell_type": "code",
   "execution_count": 7,
   "outputs": [
    {
     "data": {
      "text/plain": "7146"
     },
     "execution_count": 7,
     "metadata": {},
     "output_type": "execute_result"
    }
   ],
   "source": [
    "masksCyto.shape[1]"
   ],
   "metadata": {
    "collapsed": false,
    "pycharm": {
     "name": "#%%\n"
    }
   }
  },
  {
   "cell_type": "code",
   "execution_count": 12,
   "outputs": [],
   "source": [
    "#nuclei and cyto merged\n",
    "lengths = []\n",
    "for i in range(len(datafolderCyto)):\n",
    "    data = datafolderCyto[i]\n",
    "    masksCyto = data['masks']\n",
    "    valuesCyto = np.unique(masksCyto)\n",
    "    data = datafolderNuclei[i]\n",
    "    masksNuclei = data['masks']\n",
    "    values = np.unique(masksCyto)\n",
    "\n",
    "    minCoord = np.arange(10)\n",
    "    maxCoordy = np.arange(masksCyto.shape[0] - 11, masksCyto.shape[0])\n",
    "    maxCoordx = np.arange(masksCyto.shape[1] - 11, masksCyto.shape[1])\n",
    "    for j in values:\n",
    "        if j!= 0:\n",
    "            maskCyto = np.where(masksCyto == j)\n",
    "            nucleiInCyto = np.unique(masksNuclei[maskCyto[0], maskCyto[1]])\n",
    "            if len(nucleiInCyto[nucleiInCyto != 0]) == 1:\n",
    "                nucleiID = nucleiInCyto[nucleiInCyto != 0][0]\n",
    "                nucleiCoord = np.where(masksNuclei == nucleiID)\n",
    "                if len(np.unique(masksCyto[nucleiCoord[0], nucleiCoord[1]])) == 1:\n",
    "                    fullImageCyto = np.zeros((yLengthMax, xLengthMax), dtype= 'uint8')\n",
    "                    fullImageNuclei = np.zeros((yLengthMax, xLengthMax), dtype= 'uint8')\n",
    "                    empty = np.zeros((yLengthMax, xLengthMax), dtype= 'uint8')\n",
    "\n",
    "                    xmin, ymin = maskCyto[1].min(), maskCyto[0].min()\n",
    "                    xmax, ymax = maskCyto[1].max(), maskCyto[0].max()\n",
    "                    if  ((xmax -xmin) <= xLengthMax) & ((ymax -ymin) <= yLengthMax) & (xmin not in minCoord) & (ymin not in minCoord) & (xmax not in maxCoordx) & (ymax not in maxCoordy):\n",
    "                        if ((xmax -xmin) >= (ymax -ymin)):\n",
    "                            lengths.append((xmax -xmin))\n",
    "                        else:\n",
    "                            lengths.append((ymax -ymin))\n",
    "\n",
    "                        cellImage = masksCyto[ymin:ymax, xmin:xmax].copy()\n",
    "                        cellImage[cellImage != j] = 0\n",
    "                        cellImage[cellImage == j] = 255\n",
    "                        cellImage = np.asarray(cellImage, dtype = 'uint8')\n",
    "\n",
    "                        nucleiImage = masksNuclei[ymin:ymax, xmin:xmax].copy()\n",
    "                        nucleiImage[nucleiImage != nucleiID] = 0\n",
    "                        nucleiImage[nucleiImage == nucleiID] = 255\n",
    "                        nucleiImage = np.asarray(nucleiImage, dtype = 'uint8')\n",
    "\n",
    "\n",
    "                        xshift, yshift = int((xLengthMax - xmax + xmin)/2), int((yLengthMax - ymax + ymin)/2)\n",
    "                        fullImageCyto[yshift:yshift + ymax - ymin, xshift: xshift + xmax - xmin] = cellImage\n",
    "                        fullImageNuclei[yshift:yshift + ymax - ymin, xshift: xshift + xmax - xmin] = nucleiImage\n",
    "                        mergeFullImage = cv2.merge([fullImageCyto, fullImageNuclei, empty])\n",
    "                        im = Image.fromarray(mergeFullImage)\n",
    "                        filename =  'SingleCellImage' + str(j) + '.png'\n",
    "                        im.save(filename)"
   ],
   "metadata": {
    "collapsed": false,
    "pycharm": {
     "name": "#%%\n"
    }
   }
  },
  {
   "cell_type": "code",
   "execution_count": 13,
   "outputs": [
    {
     "data": {
      "text/plain": "(array([455., 781., 390., 206., 127.,  45.,  21.,  10.,   3.,   3.]),\n array([ 47. ,  72.7,  98.4, 124.1, 149.8, 175.5, 201.2, 226.9, 252.6,\n        278.3, 304. ]),\n <BarContainer object of 10 artists>)"
     },
     "execution_count": 13,
     "metadata": {},
     "output_type": "execute_result"
    },
    {
     "data": {
      "text/plain": "<Figure size 432x288 with 1 Axes>",
      "image/png": "[encoded data removed]"
     },
     "metadata": {
      "needs_background": "light"
     },
     "output_type": "display_data"
    }
   ],
   "source": [
    "plt.hist(lengths)"
   ],
   "metadata": {
    "collapsed": false,
    "pycharm": {
     "name": "#%%\n"
    }
   }
  },
  {
   "cell_type": "code",
   "execution_count": 5,
   "outputs": [],
   "source": [
    "data = datafolderCyto[0]\n",
    "masksCyto = data['masks']\n",
    "valuesCyto = np.unique(masksCyto)\n",
    "data = datafolderNuclei[0]\n",
    "masksNuclei = data['masks']\n",
    "j = 52"
   ],
   "metadata": {
    "collapsed": false,
    "pycharm": {
     "name": "#%%\n"
    }
   }
  },
  {
   "cell_type": "code",
   "execution_count": 16,
   "outputs": [],
   "source": [
    "maskCyto = np.where(masksCyto == j)\n",
    "nucleiInCyto = np.unique(masksNuclei[maskCyto[0], maskCyto[1]])\n",
    "if len(nucleiInCyto[nucleiInCyto != 0]) == 1:\n",
    "    nucleiID = nucleiInCyto[nucleiInCyto != 0][0]\n",
    "    nucleiCoord = np.where(masksNuclei == nucleiID)\n",
    "    if len(np.unique(masksCyto[nucleiCoord[0], nucleiCoord[1]])) == 1:\n",
    "        fullImageCyto = np.zeros((yLengthMax, xLengthMax), dtype= 'uint8')\n",
    "        fullImageNuclei = np.zeros((yLengthMax, xLengthMax), dtype= 'uint8')\n",
    "        empty = np.zeros((yLengthMax, xLengthMax), dtype= 'uint8')\n",
    "\n",
    "        xmin, ymin = maskCyto[1].min(), maskCyto[0].min()\n",
    "        xmax, ymax = maskCyto[1].max(), maskCyto[0].max()\n",
    "        if  ((xmax -xmin) <= xLengthMax) & ((ymax -ymin) <= yLengthMax):\n",
    "            cellImage = masksCyto[ymin:ymax, xmin:xmax].copy()\n",
    "            cellImage[cellImage != j] = 0\n",
    "            cellImage[cellImage == j] = 255\n",
    "            cellImage = np.asarray(cellImage, dtype = 'uint8')\n",
    "\n",
    "            nucleiImage = masksNuclei[ymin:ymax, xmin:xmax].copy()\n",
    "            nucleiImage[nucleiImage != nucleiID] = 0\n",
    "            nucleiImage[nucleiImage == nucleiID] = 255\n",
    "            nucleiImage = np.asarray(nucleiImage, dtype = 'uint8')\n",
    "\n",
    "\n",
    "            xshift, yshift = int((xLengthMax - xmax + xmin)/2), int((yLengthMax - ymax + ymin)/2)\n",
    "            fullImageCyto[yshift:yshift + ymax - ymin, xshift: xshift + xmax - xmin] = cellImage\n",
    "            fullImageNuclei[yshift:yshift + ymax - ymin, xshift: xshift + xmax - xmin] = nucleiImage"
   ],
   "metadata": {
    "collapsed": false,
    "pycharm": {
     "name": "#%%\n"
    }
   }
  },
  {
   "cell_type": "code",
   "execution_count": 18,
   "outputs": [],
   "source": [
    "mergeFullImage = cv2.merge([fullImageCyto, fullImageNuclei, empty])"
   ],
   "metadata": {
    "collapsed": false,
    "pycharm": {
     "name": "#%%\n"
    }
   }
  },
  {
   "cell_type": "code",
   "execution_count": 19,
   "outputs": [],
   "source": [
    "im = Image.fromarray(mergeFullImage)\n",
    "filename =  'SingleCellImage' + str(j) + '.png'\n",
    "im.save(filename)"
   ],
   "metadata": {
    "collapsed": false,
    "pycharm": {
     "name": "#%%\n"
    }
   }
  },
  {
   "cell_type": "code",
   "execution_count": 17,
   "outputs": [
    {
     "data": {
      "text/plain": "255"
     },
     "execution_count": 17,
     "metadata": {},
     "output_type": "execute_result"
    }
   ],
   "source": [
    "cellImage.max()"
   ],
   "metadata": {
    "collapsed": false,
    "pycharm": {
     "name": "#%%\n"
    }
   }
  },
  {
   "cell_type": "code",
   "execution_count": null,
   "outputs": [],
   "source": [],
   "metadata": {
    "collapsed": false,
    "pycharm": {
     "name": "#%%\n"
    }
   }
  },
  {
   "cell_type": "code",
   "execution_count": 11,
   "outputs": [],
   "source": [
    "#only cyto\n",
    "for i in range(len(datafolder)):\n",
    "    data = datafolder[i]\n",
    "    masks = data['masks']\n",
    "    values = np.unique(masks)\n",
    "    for j in values:\n",
    "        if j!= 0:\n",
    "            fullImage = np.zeros((yLengthMax, xLengthMax), dtype= 'uint8')\n",
    "            mask = np.where(masks == j)\n",
    "            xmin, ymin = mask[1].min(), mask[0].min()\n",
    "            xmax, ymax = mask[1].max(), mask[0].max()\n",
    "            if  ((xmax -xmin) <= xLengthMax) & ((ymax -ymin) <= yLengthMax):\n",
    "                cellImage = masks[ymin:ymax, xmin:xmax].copy()\n",
    "                cellImage[cellImage != j] = 0\n",
    "                cellImage[cellImage == j] = 250\n",
    "                cellImage = np.asarray(cellImage, dtype = 'uint8')\n",
    "                xshift, yshift = int((xLengthMax - xmax + xmin)/2), int((yLengthMax - ymax + ymin)/2)\n",
    "                fullImage[yshift:yshift + ymax - ymin, xshift: xshift + xmax - xmin] = cellImage\n",
    "                mergeFullImage = cv2.merge([fullImage, fullImage, fullImage])\n",
    "                im = Image.fromarray(mergeFullImage)\n",
    "                filename =  'SingleCellImage' + str(j) + '.png'\n",
    "                im.save(filename)"
   ],
   "metadata": {
    "collapsed": false,
    "pycharm": {
     "name": "#%%\n"
    }
   }
  },
  {
   "cell_type": "code",
   "execution_count": null,
   "outputs": [],
   "source": [],
   "metadata": {
    "collapsed": false,
    "pycharm": {
     "name": "#%%\n"
    }
   }
  },
  {
   "cell_type": "code",
   "execution_count": null,
   "outputs": [],
   "source": [],
   "metadata": {
    "collapsed": false,
    "pycharm": {
     "name": "#%%\n"
    }
   }
  },
  {
   "cell_type": "code",
   "execution_count": null,
   "outputs": [],
   "source": [],
   "metadata": {
    "collapsed": false,
    "pycharm": {
     "name": "#%%\n"
    }
   }
  },
  {
   "cell_type": "code",
   "execution_count": null,
   "outputs": [],
   "source": [
    "#for nuclei intensity"
   ],
   "metadata": {
    "collapsed": false,
    "pycharm": {
     "name": "#%%\n"
    }
   }
  },
  {
   "cell_type": "code",
   "execution_count": 7,
   "outputs": [],
   "source": [
    "data = datafolderCyto[0]\n",
    "masksCyto = data['masks']\n",
    "valuesCyto = np.unique(masksCyto)\n",
    "data = datafolderNuclei[0]\n",
    "masksNuclei = data['masks']\n",
    "imageNuclei = data['img']"
   ],
   "metadata": {
    "collapsed": false,
    "pycharm": {
     "name": "#%%\n"
    }
   }
  },
  {
   "cell_type": "code",
   "execution_count": 8,
   "outputs": [],
   "source": [
    "j = 52"
   ],
   "metadata": {
    "collapsed": false,
    "pycharm": {
     "name": "#%%\n"
    }
   }
  },
  {
   "cell_type": "code",
   "execution_count": 9,
   "outputs": [
    {
     "name": "stdout",
     "output_type": "stream",
     "text": [
      "True\n"
     ]
    }
   ],
   "source": [
    "maskCyto = np.where(masksCyto == j)\n",
    "nucleiInCyto = np.unique(masksNuclei[maskCyto[0], maskCyto[1]])\n",
    "if len(nucleiInCyto[nucleiInCyto != 0]) == 1:\n",
    "    print(True)\n",
    "    nucleiID = nucleiInCyto[nucleiInCyto != 0][0]\n",
    "    nucleiCoord = np.where(masksNuclei == nucleiID)\n",
    "    if len(np.unique(masksCyto[nucleiCoord[0], nucleiCoord[1]])) == 1:\n",
    "        fullImageCyto = np.zeros((yLengthMax, xLengthMax), dtype= np.uint8)\n",
    "        fullImageNuclei = np.zeros((yLengthMax, xLengthMax), dtype= np.uint8)\n",
    "        empty = np.zeros((yLengthMax, xLengthMax), dtype= np.uint8)\n",
    "\n",
    "        xmin, ymin = maskCyto[1].min(), maskCyto[0].min()\n",
    "        xmax, ymax = maskCyto[1].max(), maskCyto[0].max()\n",
    "        if  ((xmax -xmin) <= xLengthMax) & ((ymax -ymin) <= yLengthMax):\n",
    "            cellImage = masksCyto[ymin:ymax, xmin:xmax].copy()\n",
    "            cellImage[cellImage != j] = 0\n",
    "            cellImage[cellImage == j] = imageNucleiSingle.max()\n",
    "            cellImage = np.asarray(cellImage, dtype = np.uint16)\n",
    "\n",
    "            nucleiImage = imageNucleiSingle[ymin:ymax, xmin:xmax]\n",
    "            nucleiImage = np.asarray(nucleiImage, dtype=np.uint16)\n",
    "\n",
    "            xshift, yshift = int((xLengthMax - xmax + xmin)/2), int((yLengthMax - ymax + ymin)/2)\n",
    "            fullImageCyto[yshift:yshift + ymax - ymin, xshift: xshift + xmax - xmin] = cellImage\n",
    "            fullImageNuclei[yshift:yshift + ymax - ymin, xshift: xshift + xmax - xmin] = nucleiImage"
   ],
   "metadata": {
    "collapsed": false,
    "pycharm": {
     "name": "#%%\n"
    }
   }
  },
  {
   "cell_type": "code",
   "execution_count": 9,
   "outputs": [
    {
     "data": {
      "text/plain": "(512, 512)"
     },
     "execution_count": 9,
     "metadata": {},
     "output_type": "execute_result"
    }
   ],
   "source": [
    "fullImageNuclei.shape"
   ],
   "metadata": {
    "collapsed": false,
    "pycharm": {
     "name": "#%%\n"
    }
   }
  },
  {
   "cell_type": "code",
   "execution_count": 14,
   "outputs": [
    {
     "data": {
      "text/plain": "5362"
     },
     "execution_count": 14,
     "metadata": {},
     "output_type": "execute_result"
    }
   ],
   "source": [
    "fullImageNuclei.max()"
   ],
   "metadata": {
    "collapsed": false,
    "pycharm": {
     "name": "#%%\n"
    }
   }
  },
  {
   "cell_type": "code",
   "execution_count": 83,
   "outputs": [],
   "source": [
    "mergeFullImage = [fullImageCyto, fullImageNuclei, empty]"
   ],
   "metadata": {
    "collapsed": false,
    "pycharm": {
     "name": "#%%\n"
    }
   }
  },
  {
   "cell_type": "code",
   "execution_count": 84,
   "outputs": [
    {
     "data": {
      "text/plain": "(3, 512, 512)"
     },
     "execution_count": 84,
     "metadata": {},
     "output_type": "execute_result"
    }
   ],
   "source": [
    "mergeFullImage = np.asarray(mergeFullImage)\n",
    "mergeFullImage.shape"
   ],
   "metadata": {
    "collapsed": false,
    "pycharm": {
     "name": "#%%\n"
    }
   }
  },
  {
   "cell_type": "code",
   "execution_count": 17,
   "outputs": [],
   "source": [
    "im = Image.fromarray(fullImageNuclei)"
   ],
   "metadata": {
    "collapsed": false,
    "pycharm": {
     "name": "#%%\n"
    }
   }
  },
  {
   "cell_type": "code",
   "execution_count": 18,
   "outputs": [],
   "source": [
    "filename =  'SingleCellImageNuclei' + str(j) + '.png'\n",
    "im.save(filename)"
   ],
   "metadata": {
    "collapsed": false,
    "pycharm": {
     "name": "#%%\n"
    }
   }
  },
  {
   "cell_type": "code",
   "execution_count": 19,
   "outputs": [
    {
     "ename": "AttributeError",
     "evalue": "'numpy.ndarray' object has no attribute 'mode'",
     "output_type": "error",
     "traceback": [
      "\u001B[0;31m---------------------------------------------------------------------------\u001B[0m",
      "\u001B[0;31mAttributeError\u001B[0m                            Traceback (most recent call last)",
      "Input \u001B[0;32mIn [19]\u001B[0m, in \u001B[0;36m<cell line: 1>\u001B[0;34m()\u001B[0m\n\u001B[0;32m----> 1\u001B[0m im1 \u001B[38;5;241m=\u001B[39m \u001B[43mImage\u001B[49m\u001B[38;5;241;43m.\u001B[39;49m\u001B[43mmerge\u001B[49m\u001B[43m(\u001B[49m\u001B[43m \u001B[49m\u001B[38;5;124;43m'\u001B[39;49m\u001B[38;5;124;43mRGB\u001B[39;49m\u001B[38;5;124;43m'\u001B[39;49m\u001B[43m,\u001B[49m\u001B[43m \u001B[49m\u001B[43m(\u001B[49m\u001B[43mfullImageCyto\u001B[49m\u001B[43m,\u001B[49m\u001B[43m \u001B[49m\u001B[43mfullImageNuclei\u001B[49m\u001B[43m,\u001B[49m\u001B[43m \u001B[49m\u001B[43mempty\u001B[49m\u001B[43m)\u001B[49m\u001B[43m)\u001B[49m\n",
      "File \u001B[0;32m~/miniforge3/envs/ownProject/lib/python3.9/site-packages/PIL/Image.py:3218\u001B[0m, in \u001B[0;36mmerge\u001B[0;34m(mode, bands)\u001B[0m\n\u001B[1;32m   3216\u001B[0m     \u001B[38;5;28;01mraise\u001B[39;00m \u001B[38;5;167;01mValueError\u001B[39;00m(\u001B[38;5;124m\"\u001B[39m\u001B[38;5;124mwrong number of bands\u001B[39m\u001B[38;5;124m\"\u001B[39m)\n\u001B[1;32m   3217\u001B[0m \u001B[38;5;28;01mfor\u001B[39;00m band \u001B[38;5;129;01min\u001B[39;00m bands[\u001B[38;5;241m1\u001B[39m:]:\n\u001B[0;32m-> 3218\u001B[0m     \u001B[38;5;28;01mif\u001B[39;00m \u001B[43mband\u001B[49m\u001B[38;5;241;43m.\u001B[39;49m\u001B[43mmode\u001B[49m \u001B[38;5;241m!=\u001B[39m getmodetype(mode):\n\u001B[1;32m   3219\u001B[0m         \u001B[38;5;28;01mraise\u001B[39;00m \u001B[38;5;167;01mValueError\u001B[39;00m(\u001B[38;5;124m\"\u001B[39m\u001B[38;5;124mmode mismatch\u001B[39m\u001B[38;5;124m\"\u001B[39m)\n\u001B[1;32m   3220\u001B[0m     \u001B[38;5;28;01mif\u001B[39;00m band\u001B[38;5;241m.\u001B[39msize \u001B[38;5;241m!=\u001B[39m bands[\u001B[38;5;241m0\u001B[39m]\u001B[38;5;241m.\u001B[39msize:\n",
      "\u001B[0;31mAttributeError\u001B[0m: 'numpy.ndarray' object has no attribute 'mode'"
     ]
    }
   ],
   "source": [
    "im1 = Image.merge( 'RGB', (fullImageCyto, fullImageNuclei, empty))"
   ],
   "metadata": {
    "collapsed": false,
    "pycharm": {
     "name": "#%%\n"
    }
   }
  },
  {
   "cell_type": "code",
   "execution_count": 20,
   "outputs": [],
   "source": [
    "im_test1 = Image.fromarray(fullImageCyto)\n",
    "im_test2 = Image.fromarray(fullImageNuclei)\n",
    "im_test3 = Image.fromarray(empty)"
   ],
   "metadata": {
    "collapsed": false,
    "pycharm": {
     "name": "#%%\n"
    }
   }
  },
  {
   "cell_type": "code",
   "execution_count": 21,
   "outputs": [
    {
     "ename": "ValueError",
     "evalue": "mode mismatch",
     "output_type": "error",
     "traceback": [
      "\u001B[0;31m---------------------------------------------------------------------------\u001B[0m",
      "\u001B[0;31mValueError\u001B[0m                                Traceback (most recent call last)",
      "Input \u001B[0;32mIn [21]\u001B[0m, in \u001B[0;36m<cell line: 1>\u001B[0;34m()\u001B[0m\n\u001B[0;32m----> 1\u001B[0m imFull \u001B[38;5;241m=\u001B[39m \u001B[43mImage\u001B[49m\u001B[38;5;241;43m.\u001B[39;49m\u001B[43mmerge\u001B[49m\u001B[43m(\u001B[49m\u001B[43m \u001B[49m\u001B[38;5;124;43m'\u001B[39;49m\u001B[38;5;124;43mRGB\u001B[39;49m\u001B[38;5;124;43m'\u001B[39;49m\u001B[43m,\u001B[49m\u001B[43m \u001B[49m\u001B[43m(\u001B[49m\u001B[43mim_test1\u001B[49m\u001B[43m,\u001B[49m\u001B[43m \u001B[49m\u001B[43mim_test2\u001B[49m\u001B[43m,\u001B[49m\u001B[43m \u001B[49m\u001B[43mim_test3\u001B[49m\u001B[43m)\u001B[49m\u001B[43m)\u001B[49m\n",
      "File \u001B[0;32m~/miniforge3/envs/ownProject/lib/python3.9/site-packages/PIL/Image.py:3219\u001B[0m, in \u001B[0;36mmerge\u001B[0;34m(mode, bands)\u001B[0m\n\u001B[1;32m   3217\u001B[0m \u001B[38;5;28;01mfor\u001B[39;00m band \u001B[38;5;129;01min\u001B[39;00m bands[\u001B[38;5;241m1\u001B[39m:]:\n\u001B[1;32m   3218\u001B[0m     \u001B[38;5;28;01mif\u001B[39;00m band\u001B[38;5;241m.\u001B[39mmode \u001B[38;5;241m!=\u001B[39m getmodetype(mode):\n\u001B[0;32m-> 3219\u001B[0m         \u001B[38;5;28;01mraise\u001B[39;00m \u001B[38;5;167;01mValueError\u001B[39;00m(\u001B[38;5;124m\"\u001B[39m\u001B[38;5;124mmode mismatch\u001B[39m\u001B[38;5;124m\"\u001B[39m)\n\u001B[1;32m   3220\u001B[0m     \u001B[38;5;28;01mif\u001B[39;00m band\u001B[38;5;241m.\u001B[39msize \u001B[38;5;241m!=\u001B[39m bands[\u001B[38;5;241m0\u001B[39m]\u001B[38;5;241m.\u001B[39msize:\n\u001B[1;32m   3221\u001B[0m         \u001B[38;5;28;01mraise\u001B[39;00m \u001B[38;5;167;01mValueError\u001B[39;00m(\u001B[38;5;124m\"\u001B[39m\u001B[38;5;124msize mismatch\u001B[39m\u001B[38;5;124m\"\u001B[39m)\n",
      "\u001B[0;31mValueError\u001B[0m: mode mismatch"
     ]
    }
   ],
   "source": [
    "imFull = Image.merge( 'RGB', (im_test1, im_test2, im_test3))"
   ],
   "metadata": {
    "collapsed": false,
    "pycharm": {
     "name": "#%%\n"
    }
   }
  }
 ],
 "metadata": {
  "kernelspec": {
   "display_name": "Python 3",
   "language": "python",
   "name": "python3"
  },
  "language_info": {
   "codemirror_mode": {
    "name": "ipython",
    "version": 2
   },
   "file_extension": ".py",
   "mimetype": "text/x-python",
   "name": "python",
   "nbconvert_exporter": "python",
   "pygments_lexer": "ipython2",
   "version": "2.7.6"
  }
 },
 "nbformat": 4,
 "nbformat_minor": 0
}