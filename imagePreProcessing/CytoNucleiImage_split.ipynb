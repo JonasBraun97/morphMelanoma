{
 "cells": [
  {
   "cell_type": "code",
   "execution_count": 6,
   "outputs": [],
   "source": [
    "import numpy as np\n",
    "import matplotlib.pyplot as plt\n",
    "import os\n",
    "from os import listdir\n",
    "from os.path import join, isfile\n",
    "from PIL import Image\n",
    "import cv2\n",
    "import fnmatch"
   ],
   "metadata": {
    "collapsed": false,
    "pycharm": {
     "name": "#%%\n"
    }
   }
  },
  {
   "cell_type": "code",
   "execution_count": 7,
   "outputs": [],
   "source": [
    "cytoPath = '/Users/jbj7388/Library/CloudStorage/OneDrive-NorthwesternUniversity/ownProject/data/segmentationNPYfiles/scan2_WellA2/cyto'\n",
    "nucleiPath = '/Users/jbj7388/Library/CloudStorage/OneDrive-NorthwesternUniversity/ownProject/data/segmentationNPYfiles/scan2_WellA2/nuclei'"
   ],
   "metadata": {
    "collapsed": false,
    "pycharm": {
     "name": "#%%\n"
    }
   }
  },
  {
   "cell_type": "code",
   "execution_count": 8,
   "outputs": [],
   "source": [
    "cytoFolders = [x[0] for x in os.walk(cytoPath)]\n",
    "cytoFolders = sorted(cytoFolders)"
   ],
   "metadata": {
    "collapsed": false,
    "pycharm": {
     "name": "#%%\n"
    }
   }
  },
  {
   "cell_type": "code",
   "execution_count": 9,
   "outputs": [],
   "source": [
    "nucleiFolders= [x[0] for x in os.walk(nucleiPath)]\n",
    "nucleiFolders = sorted(nucleiFolders)"
   ],
   "metadata": {
    "collapsed": false,
    "pycharm": {
     "name": "#%%\n"
    }
   }
  },
  {
   "cell_type": "code",
   "execution_count": 10,
   "outputs": [
    {
     "data": {
      "text/plain": "['/Users/jbj7388/Library/CloudStorage/OneDrive-NorthwesternUniversity/ownProject/data/segmentationNPYfiles/scan2_WellA2/cyto',\n '/Users/jbj7388/Library/CloudStorage/OneDrive-NorthwesternUniversity/ownProject/data/segmentationNPYfiles/scan2_WellA2/cyto/mergedDAPIYFPNormalized_Subregion_100_r10_c10',\n '/Users/jbj7388/Library/CloudStorage/OneDrive-NorthwesternUniversity/ownProject/data/segmentationNPYfiles/scan2_WellA2/cyto/mergedDAPIYFPNormalized_Subregion_10_r1_c10',\n '/Users/jbj7388/Library/CloudStorage/OneDrive-NorthwesternUniversity/ownProject/data/segmentationNPYfiles/scan2_WellA2/cyto/mergedDAPIYFPNormalized_Subregion_11_r2_c1',\n '/Users/jbj7388/Library/CloudStorage/OneDrive-NorthwesternUniversity/ownProject/data/segmentationNPYfiles/scan2_WellA2/cyto/mergedDAPIYFPNormalized_Subregion_12_r2_c2',\n '/Users/jbj7388/Library/CloudStorage/OneDrive-NorthwesternUniversity/ownProject/data/segmentationNPYfiles/scan2_WellA2/cyto/mergedDAPIYFPNormalized_Subregion_13_r2_c3',\n '/Users/jbj7388/Library/CloudStorage/OneDrive-NorthwesternUniversity/ownProject/data/segmentationNPYfiles/scan2_WellA2/cyto/mergedDAPIYFPNormalized_Subregion_14_r2_c4',\n '/Users/jbj7388/Library/CloudStorage/OneDrive-NorthwesternUniversity/ownProject/data/segmentationNPYfiles/scan2_WellA2/cyto/mergedDAPIYFPNormalized_Subregion_15_r2_c5',\n '/Users/jbj7388/Library/CloudStorage/OneDrive-NorthwesternUniversity/ownProject/data/segmentationNPYfiles/scan2_WellA2/cyto/mergedDAPIYFPNormalized_Subregion_16_r2_c6',\n '/Users/jbj7388/Library/CloudStorage/OneDrive-NorthwesternUniversity/ownProject/data/segmentationNPYfiles/scan2_WellA2/cyto/mergedDAPIYFPNormalized_Subregion_17_r2_c7',\n '/Users/jbj7388/Library/CloudStorage/OneDrive-NorthwesternUniversity/ownProject/data/segmentationNPYfiles/scan2_WellA2/cyto/mergedDAPIYFPNormalized_Subregion_18_r2_c8',\n '/Users/jbj7388/Library/CloudStorage/OneDrive-NorthwesternUniversity/ownProject/data/segmentationNPYfiles/scan2_WellA2/cyto/mergedDAPIYFPNormalized_Subregion_19_r2_c9',\n '/Users/jbj7388/Library/CloudStorage/OneDrive-NorthwesternUniversity/ownProject/data/segmentationNPYfiles/scan2_WellA2/cyto/mergedDAPIYFPNormalized_Subregion_1_r1_c1',\n '/Users/jbj7388/Library/CloudStorage/OneDrive-NorthwesternUniversity/ownProject/data/segmentationNPYfiles/scan2_WellA2/cyto/mergedDAPIYFPNormalized_Subregion_20_r2_c10',\n '/Users/jbj7388/Library/CloudStorage/OneDrive-NorthwesternUniversity/ownProject/data/segmentationNPYfiles/scan2_WellA2/cyto/mergedDAPIYFPNormalized_Subregion_21_r3_c1',\n '/Users/jbj7388/Library/CloudStorage/OneDrive-NorthwesternUniversity/ownProject/data/segmentationNPYfiles/scan2_WellA2/cyto/mergedDAPIYFPNormalized_Subregion_22_r3_c2',\n '/Users/jbj7388/Library/CloudStorage/OneDrive-NorthwesternUniversity/ownProject/data/segmentationNPYfiles/scan2_WellA2/cyto/mergedDAPIYFPNormalized_Subregion_23_r3_c3',\n '/Users/jbj7388/Library/CloudStorage/OneDrive-NorthwesternUniversity/ownProject/data/segmentationNPYfiles/scan2_WellA2/cyto/mergedDAPIYFPNormalized_Subregion_24_r3_c4',\n '/Users/jbj7388/Library/CloudStorage/OneDrive-NorthwesternUniversity/ownProject/data/segmentationNPYfiles/scan2_WellA2/cyto/mergedDAPIYFPNormalized_Subregion_25_r3_c5',\n '/Users/jbj7388/Library/CloudStorage/OneDrive-NorthwesternUniversity/ownProject/data/segmentationNPYfiles/scan2_WellA2/cyto/mergedDAPIYFPNormalized_Subregion_26_r3_c6',\n '/Users/jbj7388/Library/CloudStorage/OneDrive-NorthwesternUniversity/ownProject/data/segmentationNPYfiles/scan2_WellA2/cyto/mergedDAPIYFPNormalized_Subregion_27_r3_c7',\n '/Users/jbj7388/Library/CloudStorage/OneDrive-NorthwesternUniversity/ownProject/data/segmentationNPYfiles/scan2_WellA2/cyto/mergedDAPIYFPNormalized_Subregion_28_r3_c8',\n '/Users/jbj7388/Library/CloudStorage/OneDrive-NorthwesternUniversity/ownProject/data/segmentationNPYfiles/scan2_WellA2/cyto/mergedDAPIYFPNormalized_Subregion_29_r3_c9',\n '/Users/jbj7388/Library/CloudStorage/OneDrive-NorthwesternUniversity/ownProject/data/segmentationNPYfiles/scan2_WellA2/cyto/mergedDAPIYFPNormalized_Subregion_2_r1_c2',\n '/Users/jbj7388/Library/CloudStorage/OneDrive-NorthwesternUniversity/ownProject/data/segmentationNPYfiles/scan2_WellA2/cyto/mergedDAPIYFPNormalized_Subregion_30_r3_c10',\n '/Users/jbj7388/Library/CloudStorage/OneDrive-NorthwesternUniversity/ownProject/data/segmentationNPYfiles/scan2_WellA2/cyto/mergedDAPIYFPNormalized_Subregion_31_r4_c1',\n '/Users/jbj7388/Library/CloudStorage/OneDrive-NorthwesternUniversity/ownProject/data/segmentationNPYfiles/scan2_WellA2/cyto/mergedDAPIYFPNormalized_Subregion_32_r4_c2',\n '/Users/jbj7388/Library/CloudStorage/OneDrive-NorthwesternUniversity/ownProject/data/segmentationNPYfiles/scan2_WellA2/cyto/mergedDAPIYFPNormalized_Subregion_33_r4_c3',\n '/Users/jbj7388/Library/CloudStorage/OneDrive-NorthwesternUniversity/ownProject/data/segmentationNPYfiles/scan2_WellA2/cyto/mergedDAPIYFPNormalized_Subregion_34_r4_c4',\n '/Users/jbj7388/Library/CloudStorage/OneDrive-NorthwesternUniversity/ownProject/data/segmentationNPYfiles/scan2_WellA2/cyto/mergedDAPIYFPNormalized_Subregion_35_r4_c5',\n '/Users/jbj7388/Library/CloudStorage/OneDrive-NorthwesternUniversity/ownProject/data/segmentationNPYfiles/scan2_WellA2/cyto/mergedDAPIYFPNormalized_Subregion_36_r4_c6',\n '/Users/jbj7388/Library/CloudStorage/OneDrive-NorthwesternUniversity/ownProject/data/segmentationNPYfiles/scan2_WellA2/cyto/mergedDAPIYFPNormalized_Subregion_37_r4_c7',\n '/Users/jbj7388/Library/CloudStorage/OneDrive-NorthwesternUniversity/ownProject/data/segmentationNPYfiles/scan2_WellA2/cyto/mergedDAPIYFPNormalized_Subregion_38_r4_c8',\n '/Users/jbj7388/Library/CloudStorage/OneDrive-NorthwesternUniversity/ownProject/data/segmentationNPYfiles/scan2_WellA2/cyto/mergedDAPIYFPNormalized_Subregion_39_r4_c9',\n '/Users/jbj7388/Library/CloudStorage/OneDrive-NorthwesternUniversity/ownProject/data/segmentationNPYfiles/scan2_WellA2/cyto/mergedDAPIYFPNormalized_Subregion_3_r1_c3',\n '/Users/jbj7388/Library/CloudStorage/OneDrive-NorthwesternUniversity/ownProject/data/segmentationNPYfiles/scan2_WellA2/cyto/mergedDAPIYFPNormalized_Subregion_40_r4_c10',\n '/Users/jbj7388/Library/CloudStorage/OneDrive-NorthwesternUniversity/ownProject/data/segmentationNPYfiles/scan2_WellA2/cyto/mergedDAPIYFPNormalized_Subregion_41_r5_c1',\n '/Users/jbj7388/Library/CloudStorage/OneDrive-NorthwesternUniversity/ownProject/data/segmentationNPYfiles/scan2_WellA2/cyto/mergedDAPIYFPNormalized_Subregion_42_r5_c2',\n '/Users/jbj7388/Library/CloudStorage/OneDrive-NorthwesternUniversity/ownProject/data/segmentationNPYfiles/scan2_WellA2/cyto/mergedDAPIYFPNormalized_Subregion_43_r5_c3',\n '/Users/jbj7388/Library/CloudStorage/OneDrive-NorthwesternUniversity/ownProject/data/segmentationNPYfiles/scan2_WellA2/cyto/mergedDAPIYFPNormalized_Subregion_44_r5_c4',\n '/Users/jbj7388/Library/CloudStorage/OneDrive-NorthwesternUniversity/ownProject/data/segmentationNPYfiles/scan2_WellA2/cyto/mergedDAPIYFPNormalized_Subregion_45_r5_c5',\n '/Users/jbj7388/Library/CloudStorage/OneDrive-NorthwesternUniversity/ownProject/data/segmentationNPYfiles/scan2_WellA2/cyto/mergedDAPIYFPNormalized_Subregion_46_r5_c6',\n '/Users/jbj7388/Library/CloudStorage/OneDrive-NorthwesternUniversity/ownProject/data/segmentationNPYfiles/scan2_WellA2/cyto/mergedDAPIYFPNormalized_Subregion_47_r5_c7',\n '/Users/jbj7388/Library/CloudStorage/OneDrive-NorthwesternUniversity/ownProject/data/segmentationNPYfiles/scan2_WellA2/cyto/mergedDAPIYFPNormalized_Subregion_48_r5_c8',\n '/Users/jbj7388/Library/CloudStorage/OneDrive-NorthwesternUniversity/ownProject/data/segmentationNPYfiles/scan2_WellA2/cyto/mergedDAPIYFPNormalized_Subregion_49_r5_c9',\n '/Users/jbj7388/Library/CloudStorage/OneDrive-NorthwesternUniversity/ownProject/data/segmentationNPYfiles/scan2_WellA2/cyto/mergedDAPIYFPNormalized_Subregion_4_r1_c4',\n '/Users/jbj7388/Library/CloudStorage/OneDrive-NorthwesternUniversity/ownProject/data/segmentationNPYfiles/scan2_WellA2/cyto/mergedDAPIYFPNormalized_Subregion_50_r5_c10',\n '/Users/jbj7388/Library/CloudStorage/OneDrive-NorthwesternUniversity/ownProject/data/segmentationNPYfiles/scan2_WellA2/cyto/mergedDAPIYFPNormalized_Subregion_51_r6_c1',\n '/Users/jbj7388/Library/CloudStorage/OneDrive-NorthwesternUniversity/ownProject/data/segmentationNPYfiles/scan2_WellA2/cyto/mergedDAPIYFPNormalized_Subregion_52_r6_c2',\n '/Users/jbj7388/Library/CloudStorage/OneDrive-NorthwesternUniversity/ownProject/data/segmentationNPYfiles/scan2_WellA2/cyto/mergedDAPIYFPNormalized_Subregion_53_r6_c3',\n '/Users/jbj7388/Library/CloudStorage/OneDrive-NorthwesternUniversity/ownProject/data/segmentationNPYfiles/scan2_WellA2/cyto/mergedDAPIYFPNormalized_Subregion_54_r6_c4',\n '/Users/jbj7388/Library/CloudStorage/OneDrive-NorthwesternUniversity/ownProject/data/segmentationNPYfiles/scan2_WellA2/cyto/mergedDAPIYFPNormalized_Subregion_55_r6_c5',\n '/Users/jbj7388/Library/CloudStorage/OneDrive-NorthwesternUniversity/ownProject/data/segmentationNPYfiles/scan2_WellA2/cyto/mergedDAPIYFPNormalized_Subregion_56_r6_c6',\n '/Users/jbj7388/Library/CloudStorage/OneDrive-NorthwesternUniversity/ownProject/data/segmentationNPYfiles/scan2_WellA2/cyto/mergedDAPIYFPNormalized_Subregion_57_r6_c7',\n '/Users/jbj7388/Library/CloudStorage/OneDrive-NorthwesternUniversity/ownProject/data/segmentationNPYfiles/scan2_WellA2/cyto/mergedDAPIYFPNormalized_Subregion_58_r6_c8',\n '/Users/jbj7388/Library/CloudStorage/OneDrive-NorthwesternUniversity/ownProject/data/segmentationNPYfiles/scan2_WellA2/cyto/mergedDAPIYFPNormalized_Subregion_59_r6_c9',\n '/Users/jbj7388/Library/CloudStorage/OneDrive-NorthwesternUniversity/ownProject/data/segmentationNPYfiles/scan2_WellA2/cyto/mergedDAPIYFPNormalized_Subregion_5_r1_c5',\n '/Users/jbj7388/Library/CloudStorage/OneDrive-NorthwesternUniversity/ownProject/data/segmentationNPYfiles/scan2_WellA2/cyto/mergedDAPIYFPNormalized_Subregion_60_r6_c10',\n '/Users/jbj7388/Library/CloudStorage/OneDrive-NorthwesternUniversity/ownProject/data/segmentationNPYfiles/scan2_WellA2/cyto/mergedDAPIYFPNormalized_Subregion_61_r7_c1',\n '/Users/jbj7388/Library/CloudStorage/OneDrive-NorthwesternUniversity/ownProject/data/segmentationNPYfiles/scan2_WellA2/cyto/mergedDAPIYFPNormalized_Subregion_62_r7_c2',\n '/Users/jbj7388/Library/CloudStorage/OneDrive-NorthwesternUniversity/ownProject/data/segmentationNPYfiles/scan2_WellA2/cyto/mergedDAPIYFPNormalized_Subregion_63_r7_c3',\n '/Users/jbj7388/Library/CloudStorage/OneDrive-NorthwesternUniversity/ownProject/data/segmentationNPYfiles/scan2_WellA2/cyto/mergedDAPIYFPNormalized_Subregion_64_r7_c4',\n '/Users/jbj7388/Library/CloudStorage/OneDrive-NorthwesternUniversity/ownProject/data/segmentationNPYfiles/scan2_WellA2/cyto/mergedDAPIYFPNormalized_Subregion_65_r7_c5',\n '/Users/jbj7388/Library/CloudStorage/OneDrive-NorthwesternUniversity/ownProject/data/segmentationNPYfiles/scan2_WellA2/cyto/mergedDAPIYFPNormalized_Subregion_66_r7_c6',\n '/Users/jbj7388/Library/CloudStorage/OneDrive-NorthwesternUniversity/ownProject/data/segmentationNPYfiles/scan2_WellA2/cyto/mergedDAPIYFPNormalized_Subregion_67_r7_c7',\n '/Users/jbj7388/Library/CloudStorage/OneDrive-NorthwesternUniversity/ownProject/data/segmentationNPYfiles/scan2_WellA2/cyto/mergedDAPIYFPNormalized_Subregion_68_r7_c8',\n '/Users/jbj7388/Library/CloudStorage/OneDrive-NorthwesternUniversity/ownProject/data/segmentationNPYfiles/scan2_WellA2/cyto/mergedDAPIYFPNormalized_Subregion_69_r7_c9',\n '/Users/jbj7388/Library/CloudStorage/OneDrive-NorthwesternUniversity/ownProject/data/segmentationNPYfiles/scan2_WellA2/cyto/mergedDAPIYFPNormalized_Subregion_6_r1_c6',\n '/Users/jbj7388/Library/CloudStorage/OneDrive-NorthwesternUniversity/ownProject/data/segmentationNPYfiles/scan2_WellA2/cyto/mergedDAPIYFPNormalized_Subregion_70_r7_c10',\n '/Users/jbj7388/Library/CloudStorage/OneDrive-NorthwesternUniversity/ownProject/data/segmentationNPYfiles/scan2_WellA2/cyto/mergedDAPIYFPNormalized_Subregion_71_r8_c1',\n '/Users/jbj7388/Library/CloudStorage/OneDrive-NorthwesternUniversity/ownProject/data/segmentationNPYfiles/scan2_WellA2/cyto/mergedDAPIYFPNormalized_Subregion_72_r8_c2',\n '/Users/jbj7388/Library/CloudStorage/OneDrive-NorthwesternUniversity/ownProject/data/segmentationNPYfiles/scan2_WellA2/cyto/mergedDAPIYFPNormalized_Subregion_73_r8_c3',\n '/Users/jbj7388/Library/CloudStorage/OneDrive-NorthwesternUniversity/ownProject/data/segmentationNPYfiles/scan2_WellA2/cyto/mergedDAPIYFPNormalized_Subregion_74_r8_c4',\n '/Users/jbj7388/Library/CloudStorage/OneDrive-NorthwesternUniversity/ownProject/data/segmentationNPYfiles/scan2_WellA2/cyto/mergedDAPIYFPNormalized_Subregion_75_r8_c5',\n '/Users/jbj7388/Library/CloudStorage/OneDrive-NorthwesternUniversity/ownProject/data/segmentationNPYfiles/scan2_WellA2/cyto/mergedDAPIYFPNormalized_Subregion_76_r8_c6',\n '/Users/jbj7388/Library/CloudStorage/OneDrive-NorthwesternUniversity/ownProject/data/segmentationNPYfiles/scan2_WellA2/cyto/mergedDAPIYFPNormalized_Subregion_77_r8_c7',\n '/Users/jbj7388/Library/CloudStorage/OneDrive-NorthwesternUniversity/ownProject/data/segmentationNPYfiles/scan2_WellA2/cyto/mergedDAPIYFPNormalized_Subregion_78_r8_c8',\n '/Users/jbj7388/Library/CloudStorage/OneDrive-NorthwesternUniversity/ownProject/data/segmentationNPYfiles/scan2_WellA2/cyto/mergedDAPIYFPNormalized_Subregion_79_r8_c9',\n '/Users/jbj7388/Library/CloudStorage/OneDrive-NorthwesternUniversity/ownProject/data/segmentationNPYfiles/scan2_WellA2/cyto/mergedDAPIYFPNormalized_Subregion_7_r1_c7',\n '/Users/jbj7388/Library/CloudStorage/OneDrive-NorthwesternUniversity/ownProject/data/segmentationNPYfiles/scan2_WellA2/cyto/mergedDAPIYFPNormalized_Subregion_80_r8_c10',\n '/Users/jbj7388/Library/CloudStorage/OneDrive-NorthwesternUniversity/ownProject/data/segmentationNPYfiles/scan2_WellA2/cyto/mergedDAPIYFPNormalized_Subregion_81_r9_c1',\n '/Users/jbj7388/Library/CloudStorage/OneDrive-NorthwesternUniversity/ownProject/data/segmentationNPYfiles/scan2_WellA2/cyto/mergedDAPIYFPNormalized_Subregion_82_r9_c2',\n '/Users/jbj7388/Library/CloudStorage/OneDrive-NorthwesternUniversity/ownProject/data/segmentationNPYfiles/scan2_WellA2/cyto/mergedDAPIYFPNormalized_Subregion_83_r9_c3',\n '/Users/jbj7388/Library/CloudStorage/OneDrive-NorthwesternUniversity/ownProject/data/segmentationNPYfiles/scan2_WellA2/cyto/mergedDAPIYFPNormalized_Subregion_84_r9_c4',\n '/Users/jbj7388/Library/CloudStorage/OneDrive-NorthwesternUniversity/ownProject/data/segmentationNPYfiles/scan2_WellA2/cyto/mergedDAPIYFPNormalized_Subregion_85_r9_c5',\n '/Users/jbj7388/Library/CloudStorage/OneDrive-NorthwesternUniversity/ownProject/data/segmentationNPYfiles/scan2_WellA2/cyto/mergedDAPIYFPNormalized_Subregion_86_r9_c6',\n '/Users/jbj7388/Library/CloudStorage/OneDrive-NorthwesternUniversity/ownProject/data/segmentationNPYfiles/scan2_WellA2/cyto/mergedDAPIYFPNormalized_Subregion_87_r9_c7',\n '/Users/jbj7388/Library/CloudStorage/OneDrive-NorthwesternUniversity/ownProject/data/segmentationNPYfiles/scan2_WellA2/cyto/mergedDAPIYFPNormalized_Subregion_88_r9_c8',\n '/Users/jbj7388/Library/CloudStorage/OneDrive-NorthwesternUniversity/ownProject/data/segmentationNPYfiles/scan2_WellA2/cyto/mergedDAPIYFPNormalized_Subregion_89_r9_c9',\n '/Users/jbj7388/Library/CloudStorage/OneDrive-NorthwesternUniversity/ownProject/data/segmentationNPYfiles/scan2_WellA2/cyto/mergedDAPIYFPNormalized_Subregion_8_r1_c8',\n '/Users/jbj7388/Library/CloudStorage/OneDrive-NorthwesternUniversity/ownProject/data/segmentationNPYfiles/scan2_WellA2/cyto/mergedDAPIYFPNormalized_Subregion_90_r9_c10',\n '/Users/jbj7388/Library/CloudStorage/OneDrive-NorthwesternUniversity/ownProject/data/segmentationNPYfiles/scan2_WellA2/cyto/mergedDAPIYFPNormalized_Subregion_91_r10_c1',\n '/Users/jbj7388/Library/CloudStorage/OneDrive-NorthwesternUniversity/ownProject/data/segmentationNPYfiles/scan2_WellA2/cyto/mergedDAPIYFPNormalized_Subregion_92_r10_c2',\n '/Users/jbj7388/Library/CloudStorage/OneDrive-NorthwesternUniversity/ownProject/data/segmentationNPYfiles/scan2_WellA2/cyto/mergedDAPIYFPNormalized_Subregion_93_r10_c3',\n '/Users/jbj7388/Library/CloudStorage/OneDrive-NorthwesternUniversity/ownProject/data/segmentationNPYfiles/scan2_WellA2/cyto/mergedDAPIYFPNormalized_Subregion_94_r10_c4',\n '/Users/jbj7388/Library/CloudStorage/OneDrive-NorthwesternUniversity/ownProject/data/segmentationNPYfiles/scan2_WellA2/cyto/mergedDAPIYFPNormalized_Subregion_95_r10_c5',\n '/Users/jbj7388/Library/CloudStorage/OneDrive-NorthwesternUniversity/ownProject/data/segmentationNPYfiles/scan2_WellA2/cyto/mergedDAPIYFPNormalized_Subregion_96_r10_c6',\n '/Users/jbj7388/Library/CloudStorage/OneDrive-NorthwesternUniversity/ownProject/data/segmentationNPYfiles/scan2_WellA2/cyto/mergedDAPIYFPNormalized_Subregion_97_r10_c7',\n '/Users/jbj7388/Library/CloudStorage/OneDrive-NorthwesternUniversity/ownProject/data/segmentationNPYfiles/scan2_WellA2/cyto/mergedDAPIYFPNormalized_Subregion_98_r10_c8',\n '/Users/jbj7388/Library/CloudStorage/OneDrive-NorthwesternUniversity/ownProject/data/segmentationNPYfiles/scan2_WellA2/cyto/mergedDAPIYFPNormalized_Subregion_99_r10_c9',\n '/Users/jbj7388/Library/CloudStorage/OneDrive-NorthwesternUniversity/ownProject/data/segmentationNPYfiles/scan2_WellA2/cyto/mergedDAPIYFPNormalized_Subregion_9_r1_c9']"
     },
     "execution_count": 10,
     "metadata": {},
     "output_type": "execute_result"
    }
   ],
   "source": [
    "cytoFolders"
   ],
   "metadata": {
    "collapsed": false,
    "pycharm": {
     "name": "#%%\n"
    }
   }
  },
  {
   "cell_type": "code",
   "execution_count": 28,
   "outputs": [],
   "source": [
    "lengthsCyto = []\n",
    "lengthsNuclei = []\n",
    "lengthCytoImage = 700\n",
    "lengthNucleiImage = 150\n",
    "\n",
    "#for r in range(3,11):\n",
    "r=2\n",
    "for c in range(3,11):\n",
    "    if (r != 0) & (c!=0):\n",
    "        #Find the corresponding cytoplasm and nucleiFile\n",
    "        pattern = \"*r\" + str(r) +\"_c\" + str(c)\n",
    "        cytoFolder = fnmatch.filter(cytoFolders, pattern)\n",
    "        nucleiFolder = fnmatch.filter(nucleiFolders, pattern)\n",
    "\n",
    "        #Load the the cyto and nuclei File\n",
    "        os.chdir(cytoFolder[0])\n",
    "        files = [f for f in listdir(cytoFolder[0]) if isfile(join(cytoFolder[0], f))]\n",
    "        cytoDatafolder = [np.load(f, allow_pickle=True).item() for f in files ]\n",
    "        os.chdir(nucleiFolder[0])\n",
    "        files = [f for f in listdir(nucleiFolder[0]) if isfile(join(nucleiFolder[0], f))]\n",
    "        nucleiDatafolder = [np.load(f, allow_pickle=True).item() for f in files ]\n",
    "\n",
    "        for i in range(len(cytoDatafolder)):\n",
    "            #Convert the data into mask array and calculate unique masks\n",
    "            data = cytoDatafolder[i]\n",
    "            cytoMasks = data['masks']\n",
    "            cytoValues = np.unique(cytoMasks)\n",
    "            data = nucleiDatafolder[i]\n",
    "            nucleiMasks = data['masks']\n",
    "            nucleiValues = np.unique(nucleiMasks)\n",
    "\n",
    "            #define border values, which should be excluded\n",
    "            minCoord = np.arange(10)\n",
    "            maxCoordy = np.arange(cytoMasks.shape[0] - 11, cytoMasks.shape[0])\n",
    "            maxCoordx = np.arange(cytoMasks.shape[1] - 11, cytoMasks.shape[1])\n",
    "\n",
    "            #loop over every mask to check if cytoplasm has only one nuclei and if nuclei is fully in cytoplasm\n",
    "            for j in cytoValues:\n",
    "                if j!= 0:\n",
    "                    #check if only one nuclei is in cytoplasm\n",
    "                    cytoMask = np.where(cytoMasks == j)\n",
    "                    nucleiInCyto = np.unique(nucleiMasks[cytoMask[0], cytoMask[1]])\n",
    "                    if len(nucleiInCyto[nucleiInCyto != 0]) == 1:\n",
    "                        nucleiID = nucleiInCyto[nucleiInCyto != 0][0]\n",
    "                        nucleiMask = np.where(nucleiMasks == nucleiID)\n",
    "                        if len(np.unique(cytoMasks[nucleiMask[0], nucleiMask[1]])) == 1:\n",
    "                            fullImageCyto = np.zeros((lengthCytoImage, lengthCytoImage), dtype= 'uint8')\n",
    "                            fullImageNuclei = np.zeros((lengthNucleiImage, lengthNucleiImage), dtype= 'uint8')\n",
    "\n",
    "                            xminCyto, yminCyto = cytoMask[1].min(), cytoMask[0].min()\n",
    "                            xmaxCyto, ymaxCyto = cytoMask[1].max(), cytoMask[0].max()\n",
    "\n",
    "                            xminNuclei, yminNuclei = nucleiMask[1].min(), nucleiMask[0].min()\n",
    "                            xmaxNuclei, ymaxNuclei = nucleiMask[1].max(), nucleiMask[0].max()\n",
    "\n",
    "                            #check if nuclei/cyto not at borders\n",
    "                            if (xminCyto not in minCoord) & (yminCyto not in minCoord) & (xmaxCyto not in maxCoordx) & (ymaxCyto not in maxCoordy) & (xminNuclei not in minCoord) & (yminNuclei not in minCoord) & (xmaxNuclei not in maxCoordx) & (ymaxNuclei not in maxCoordy):\n",
    "                                #keeping track of cytoplasm length\n",
    "                                if ((xmaxCyto -xminCyto) >= (ymaxCyto -yminCyto)):\n",
    "                                    lengthsCyto.append((xmaxCyto -xminCyto))\n",
    "                                else:\n",
    "                                    lengthsCyto.append((ymaxCyto -yminCyto))\n",
    "\n",
    "                                #keeping track of nuclei length\n",
    "                                if ((xmaxNuclei -xminNuclei) >= (ymaxNuclei -yminNuclei)):\n",
    "                                    lengthsNuclei.append((xmaxNuclei -xminNuclei))\n",
    "                                else:\n",
    "                                    lengthsNuclei.append((ymaxNuclei -yminNuclei))\n",
    "\n",
    "                                #check if nuclei/cyto not too large and not at borders\n",
    "                                if  ((xmaxCyto -xminCyto) <= lengthCytoImage) & ((ymaxCyto -yminCyto) <= lengthCytoImage) & ((xmaxNuclei -xminNuclei) <= lengthNucleiImage) & ((ymaxNuclei -yminNuclei) <= lengthNucleiImage):\n",
    "\n",
    "                                    #extract cytoplasm and nuclei\n",
    "                                    cellImage = cytoMasks[yminCyto:ymaxCyto, xminCyto:xmaxCyto].copy()\n",
    "                                    cellImage[cellImage != j] = 0\n",
    "                                    cellImage[cellImage == j] = 255\n",
    "                                    cellImage = np.asarray(cellImage, dtype = 'uint8')\n",
    "\n",
    "                                    nucleiImage = nucleiMasks[yminNuclei:ymaxNuclei, xminNuclei:xmaxNuclei].copy()\n",
    "                                    nucleiImage[nucleiImage != nucleiID] = 0\n",
    "                                    nucleiImage[nucleiImage == nucleiID] = 255\n",
    "                                    nucleiImage = np.asarray(nucleiImage, dtype = 'uint8')\n",
    "\n",
    "                                    #put cytoplasm and nuclei in the middle of the image\n",
    "                                    xshiftCyto, yshiftCyto = int((lengthCytoImage - xmaxCyto + xminCyto)/2), int((lengthCytoImage - ymaxCyto + yminCyto)/2)\n",
    "                                    xshiftNuclei, yshiftNuclei = int((lengthNucleiImage - xmaxNuclei + xminNuclei)/2), int((lengthNucleiImage - ymaxNuclei + yminNuclei)/2)\n",
    "                                    fullImageCyto[yshiftCyto:yshiftCyto + ymaxCyto - yminCyto, xshiftCyto: xshiftCyto + xmaxCyto - xminCyto] = cellImage\n",
    "                                    fullImageNuclei[yshiftNuclei:yshiftNuclei + ymaxNuclei - yminNuclei, xshiftNuclei: xshiftNuclei + xmaxNuclei - xminNuclei] = nucleiImage\n",
    "\n",
    "                                    #save cyto and nuclei as image\n",
    "                                    imCyto = Image.fromarray(fullImageCyto)\n",
    "                                    imNuclei = Image.fromarray(fullImageNuclei)\n",
    "                                    filenameNuclei =  'Nuclei150_Scan2_WellA2_r' + str(r) + '_c' + str(c) + '_n' + str(j) + '.png'\n",
    "                                    filenameCyto =  'Cyto700_Scan2_WellA2_r' + str(r) + '_c' + str(c) + '_n' + str(j) + '.png'\n",
    "                                    os.chdir('/Users/jbj7388/coding/ownProject/singleCellImage/scan1_WellA1/cyto')\n",
    "                                    imCyto.save(filenameCyto)\n",
    "                                    os.chdir('/Users/jbj7388/coding/ownProject/singleCellImage/scan1_WellA1/nuclei')\n",
    "                                    imNuclei.save(filenameNuclei)"
   ],
   "metadata": {
    "collapsed": false,
    "pycharm": {
     "name": "#%%\n"
    }
   }
  },
  {
   "cell_type": "code",
   "execution_count": 19,
   "outputs": [
    {
     "data": {
      "text/plain": "(array([9.0000e+00, 2.1700e+02, 1.1075e+04, 4.8240e+03, 4.3500e+02,\n        8.8000e+01, 2.5000e+01, 2.0000e+00, 1.0000e+00, 2.0000e+00]),\n array([ 13. ,  25.6,  38.2,  50.8,  63.4,  76. ,  88.6, 101.2, 113.8,\n        126.4, 139. ]),\n <BarContainer object of 10 artists>)"
     },
     "execution_count": 19,
     "metadata": {},
     "output_type": "execute_result"
    },
    {
     "data": {
      "text/plain": "<Figure size 432x288 with 1 Axes>",
      "image/png": "[encoded data removed]"
     },
     "metadata": {
      "needs_background": "light"
     },
     "output_type": "display_data"
    }
   ],
   "source": [
    "#until r2,c2\n",
    "plt.hist(lengthsNuclei)"
   ],
   "metadata": {
    "collapsed": false,
    "pycharm": {
     "name": "#%%\n"
    }
   }
  },
  {
   "cell_type": "code",
   "execution_count": 22,
   "outputs": [
    {
     "data": {
      "text/plain": "(array([2.6000e+01, 1.8200e+02, 4.1728e+04, 3.8755e+04, 4.4580e+03,\n        8.4500e+02, 2.1900e+02, 5.2000e+01, 1.0000e+01, 5.0000e+00]),\n array([ 10. ,  22.9,  35.8,  48.7,  61.6,  74.5,  87.4, 100.3, 113.2,\n        126.1, 139. ]),\n <BarContainer object of 10 artists>)"
     },
     "execution_count": 22,
     "metadata": {},
     "output_type": "execute_result"
    },
    {
     "data": {
      "text/plain": "<Figure size 432x288 with 1 Axes>",
      "image/png": "[encoded data removed]"
     },
     "metadata": {
      "needs_background": "light"
     },
     "output_type": "display_data"
    }
   ],
   "source": [
    "plt.hist(lengthsNuclei)"
   ],
   "metadata": {
    "collapsed": false,
    "pycharm": {
     "name": "#%%\n"
    }
   }
  },
  {
   "cell_type": "code",
   "execution_count": 29,
   "outputs": [
    {
     "data": {
      "text/plain": "(array([3.000e+00, 5.000e+00, 1.456e+03, 6.841e+03, 1.684e+03, 2.510e+02,\n        4.700e+01, 1.300e+01, 6.000e+00, 2.000e+00]),\n array([  9. ,  20.4,  31.8,  43.2,  54.6,  66. ,  77.4,  88.8, 100.2,\n        111.6, 123. ]),\n <BarContainer object of 10 artists>)"
     },
     "execution_count": 29,
     "metadata": {},
     "output_type": "execute_result"
    },
    {
     "data": {
      "text/plain": "<Figure size 432x288 with 1 Axes>",
      "image/png": "[encoded data removed]"
     },
     "metadata": {
      "needs_background": "light"
     },
     "output_type": "display_data"
    }
   ],
   "source": [
    "#r2,3-10\n",
    "plt.hist(lengthsNuclei)"
   ],
   "metadata": {
    "collapsed": false,
    "pycharm": {
     "name": "#%%\n"
    }
   }
  },
  {
   "cell_type": "code",
   "execution_count": 20,
   "outputs": [
    {
     "data": {
      "text/plain": "(array([6.630e+03, 6.408e+03, 2.718e+03, 7.020e+02, 1.810e+02, 2.900e+01,\n        7.000e+00, 2.000e+00, 0.000e+00, 1.000e+00]),\n array([ 47. , 102.5, 158. , 213.5, 269. , 324.5, 380. , 435.5, 491. ,\n        546.5, 602. ]),\n <BarContainer object of 10 artists>)"
     },
     "execution_count": 20,
     "metadata": {},
     "output_type": "execute_result"
    },
    {
     "data": {
      "text/plain": "<Figure size 432x288 with 1 Axes>",
      "image/png": "[encoded data removed]"
     },
     "metadata": {
      "needs_background": "light"
     },
     "output_type": "display_data"
    }
   ],
   "source": [
    "#until r2,c2\n",
    "plt.hist(lengthsCyto)-"
   ],
   "metadata": {
    "collapsed": false,
    "pycharm": {
     "name": "#%%\n"
    }
   }
  },
  {
   "cell_type": "code",
   "execution_count": 23,
   "outputs": [
    {
     "data": {
      "text/plain": "(array([1.9893e+04, 4.0422e+04, 1.9426e+04, 5.1910e+03, 1.0610e+03,\n        2.2700e+02, 4.9000e+01, 9.0000e+00, 1.0000e+00, 1.0000e+00]),\n array([ 31. ,  92.9, 154.8, 216.7, 278.6, 340.5, 402.4, 464.3, 526.2,\n        588.1, 650. ]),\n <BarContainer object of 10 artists>)"
     },
     "execution_count": 23,
     "metadata": {},
     "output_type": "execute_result"
    },
    {
     "data": {
      "text/plain": "<Figure size 432x288 with 1 Axes>",
      "image/png": "[encoded data removed]"
     },
     "metadata": {
      "needs_background": "light"
     },
     "output_type": "display_data"
    }
   ],
   "source": [
    "plt.hist(lengthsCyto)"
   ],
   "metadata": {
    "collapsed": false,
    "pycharm": {
     "name": "#%%\n"
    }
   }
  },
  {
   "cell_type": "code",
   "execution_count": 30,
   "outputs": [
    {
     "data": {
      "text/plain": "(array([1.628e+03, 4.012e+03, 2.686e+03, 1.214e+03, 5.100e+02, 1.820e+02,\n        6.000e+01, 1.000e+01, 3.000e+00, 3.000e+00]),\n array([ 39. ,  81.5, 124. , 166.5, 209. , 251.5, 294. , 336.5, 379. ,\n        421.5, 464. ]),\n <BarContainer object of 10 artists>)"
     },
     "execution_count": 30,
     "metadata": {},
     "output_type": "execute_result"
    },
    {
     "data": {
      "text/plain": "<Figure size 432x288 with 1 Axes>",
      "image/png": "[encoded data removed]"
     },
     "metadata": {
      "needs_background": "light"
     },
     "output_type": "display_data"
    }
   ],
   "source": [
    "#r2,3-10\n",
    "plt.hist(lengthsCyto)"
   ],
   "metadata": {
    "collapsed": false,
    "pycharm": {
     "name": "#%%\n"
    }
   }
  },
  {
   "cell_type": "code",
   "execution_count": null,
   "outputs": [],
   "source": [],
   "metadata": {
    "collapsed": false,
    "pycharm": {
     "name": "#%%\n"
    }
   }
  }
 ],
 "metadata": {
  "kernelspec": {
   "display_name": "Python 3",
   "language": "python",
   "name": "python3"
  },
  "language_info": {
   "codemirror_mode": {
    "name": "ipython",
    "version": 2
   },
   "file_extension": ".py",
   "mimetype": "text/x-python",
   "name": "python",
   "nbconvert_exporter": "python",
   "pygments_lexer": "ipython2",
   "version": "2.7.6"
  }
 },
 "nbformat": 4,
 "nbformat_minor": 0
}