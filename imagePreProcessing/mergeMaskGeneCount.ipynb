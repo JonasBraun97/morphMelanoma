{
 "cells": [
  {
   "cell_type": "code",
   "execution_count": 2,
   "id": "02d5d50b",
   "metadata": {
    "pycharm": {
     "name": "#%%\n"
    }
   },
   "outputs": [],
   "source": [
    "import numpy as np\n",
    "import matplotlib.pyplot as plt\n",
    "from os import listdir\n",
    "from os.path import isfile, join\n",
    "import os\n",
    "import skimage.io\n",
    "from PIL import Image\n",
    "import pandas as pd"
   ]
  },
  {
   "cell_type": "code",
   "execution_count": 3,
   "id": "9479ddce",
   "metadata": {
    "pycharm": {
     "name": "#%%\n"
    }
   },
   "outputs": [
    {
     "data": {
      "text/plain": "'/Users/jones/Library/CloudStorage/OneDrive-NorthwesternUniversity/ownProject/code/imagePreProcessing'"
     },
     "execution_count": 3,
     "metadata": {},
     "output_type": "execute_result"
    }
   ],
   "source": [
    "%pwd"
   ]
  },
  {
   "cell_type": "code",
   "execution_count": 24,
   "outputs": [],
   "source": [
    "#macpath =\n",
    "macbookpath = '/Users/jones/Library/CloudStorage/OneDrive-NorthwesternUniversity/ownProject/data'\n",
    "imagesMacbookPath = '/Users/jones/Library/CloudStorage/OneDrive-NorthwesternUniversity/ownProject/data/rawData/clampFISCHIan/Subregion_44_r5_c4'\n",
    "maskMacbookPath = '/Users/jones/Library/CloudStorage/OneDrive-NorthwesternUniversity/ownProject/data/segmentations/npyFiles'"
   ],
   "metadata": {
    "collapsed": false,
    "pycharm": {
     "name": "#%%\n"
    }
   }
  },
  {
   "cell_type": "code",
   "execution_count": 5,
   "outputs": [],
   "source": [
    "os.chdir(macbookpath)"
   ],
   "metadata": {
    "collapsed": false,
    "pycharm": {
     "name": "#%%\n"
    }
   }
  },
  {
   "cell_type": "code",
   "execution_count": 7,
   "outputs": [],
   "source": [
    "genes = pd.read_csv('spots.csv')"
   ],
   "metadata": {
    "collapsed": false,
    "pycharm": {
     "name": "#%%\n"
    }
   }
  },
  {
   "cell_type": "code",
   "execution_count": 8,
   "outputs": [
    {
     "data": {
      "text/plain": "   spotID    x    y  intensity  nearestNucID  status  maskID     channel  \\\n0       1  921  772   24.67889           127       0       0  R1_YFP_UBC   \n1       2  639  381   24.67972            65       0       0  R1_YFP_UBC   \n2       3  380  834   24.68205           194       0       0  R1_YFP_UBC   \n3       4  461  912   24.68855           188       0       0  R1_YFP_UBC   \n4       5  953  106   24.68930            37       0       0  R1_YFP_UBC   \n\n   distanceToNuc  \n0      149.96670  \n1       34.52535  \n2      108.90820  \n3       36.22154  \n4      384.29280  ",
      "text/html": "<div>\n<style scoped>\n    .dataframe tbody tr th:only-of-type {\n        vertical-align: middle;\n    }\n\n    .dataframe tbody tr th {\n        vertical-align: top;\n    }\n\n    .dataframe thead th {\n        text-align: right;\n    }\n</style>\n<table border=\"1\" class=\"dataframe\">\n  <thead>\n    <tr style=\"text-align: right;\">\n      <th></th>\n      <th>spotID</th>\n      <th>x</th>\n      <th>y</th>\n      <th>intensity</th>\n      <th>nearestNucID</th>\n      <th>status</th>\n      <th>maskID</th>\n      <th>channel</th>\n      <th>distanceToNuc</th>\n    </tr>\n  </thead>\n  <tbody>\n    <tr>\n      <th>0</th>\n      <td>1</td>\n      <td>921</td>\n      <td>772</td>\n      <td>24.67889</td>\n      <td>127</td>\n      <td>0</td>\n      <td>0</td>\n      <td>R1_YFP_UBC</td>\n      <td>149.96670</td>\n    </tr>\n    <tr>\n      <th>1</th>\n      <td>2</td>\n      <td>639</td>\n      <td>381</td>\n      <td>24.67972</td>\n      <td>65</td>\n      <td>0</td>\n      <td>0</td>\n      <td>R1_YFP_UBC</td>\n      <td>34.52535</td>\n    </tr>\n    <tr>\n      <th>2</th>\n      <td>3</td>\n      <td>380</td>\n      <td>834</td>\n      <td>24.68205</td>\n      <td>194</td>\n      <td>0</td>\n      <td>0</td>\n      <td>R1_YFP_UBC</td>\n      <td>108.90820</td>\n    </tr>\n    <tr>\n      <th>3</th>\n      <td>4</td>\n      <td>461</td>\n      <td>912</td>\n      <td>24.68855</td>\n      <td>188</td>\n      <td>0</td>\n      <td>0</td>\n      <td>R1_YFP_UBC</td>\n      <td>36.22154</td>\n    </tr>\n    <tr>\n      <th>4</th>\n      <td>5</td>\n      <td>953</td>\n      <td>106</td>\n      <td>24.68930</td>\n      <td>37</td>\n      <td>0</td>\n      <td>0</td>\n      <td>R1_YFP_UBC</td>\n      <td>384.29280</td>\n    </tr>\n  </tbody>\n</table>\n</div>"
     },
     "execution_count": 8,
     "metadata": {},
     "output_type": "execute_result"
    }
   ],
   "source": [
    "genes.head(5)"
   ],
   "metadata": {
    "collapsed": false,
    "pycharm": {
     "name": "#%%\n"
    }
   }
  },
  {
   "cell_type": "code",
   "execution_count": 9,
   "outputs": [
    {
     "data": {
      "text/plain": "2464"
     },
     "execution_count": 9,
     "metadata": {},
     "output_type": "execute_result"
    }
   ],
   "source": [
    "os.chdir(maskMacbookPath)\n",
    "files = [f for f in listdir(maskMacbookPath) if isfile(join(maskMacbookPath, f))]\n",
    "seg = np.load(files[0], allow_pickle= True).item()\n",
    "img = seg['img']\n",
    "masks = seg['masks']\n",
    "len(np.unique(masks))"
   ],
   "metadata": {
    "collapsed": false,
    "pycharm": {
     "name": "#%%\n"
    }
   }
  },
  {
   "cell_type": "code",
   "execution_count": 10,
   "outputs": [
    {
     "data": {
      "text/plain": "629167"
     },
     "execution_count": 10,
     "metadata": {},
     "output_type": "execute_result"
    }
   ],
   "source": [
    "len(genes)"
   ],
   "metadata": {
    "collapsed": false,
    "pycharm": {
     "name": "#%%\n"
    }
   }
  },
  {
   "cell_type": "code",
   "execution_count": 21,
   "outputs": [],
   "source": [
    "def maskCellpose(row, masks):\n",
    "    return masks[(row['x']-1), (row['y']-1)]"
   ],
   "metadata": {
    "collapsed": false,
    "pycharm": {
     "name": "#%%\n"
    }
   }
  },
  {
   "cell_type": "code",
   "execution_count": 13,
   "outputs": [
    {
     "ename": "IndexError",
     "evalue": "index 7187 is out of bounds for axis 0 with size 7187",
     "output_type": "error",
     "traceback": [
      "\u001B[0;31m---------------------------------------------------------------------------\u001B[0m",
      "\u001B[0;31mIndexError\u001B[0m                                Traceback (most recent call last)",
      "Input \u001B[0;32mIn [13]\u001B[0m, in \u001B[0;36m<module>\u001B[0;34m\u001B[0m\n\u001B[0;32m----> 1\u001B[0m genes[\u001B[38;5;124m'\u001B[39m\u001B[38;5;124mmaskID\u001B[39m\u001B[38;5;124m'\u001B[39m] \u001B[38;5;241m=\u001B[39m \u001B[43mmasks\u001B[49m\u001B[43m[\u001B[49m\u001B[43mgenes\u001B[49m\u001B[43m[\u001B[49m\u001B[38;5;124;43m'\u001B[39;49m\u001B[38;5;124;43mx\u001B[39;49m\u001B[38;5;124;43m'\u001B[39;49m\u001B[43m]\u001B[49m\u001B[43m,\u001B[49m\u001B[43m \u001B[49m\u001B[43mgenes\u001B[49m\u001B[43m[\u001B[49m\u001B[38;5;124;43m'\u001B[39;49m\u001B[38;5;124;43my\u001B[39;49m\u001B[38;5;124;43m'\u001B[39;49m\u001B[43m]\u001B[49m\u001B[43m]\u001B[49m\n",
      "\u001B[0;31mIndexError\u001B[0m: index 7187 is out of bounds for axis 0 with size 7187"
     ]
    }
   ],
   "source": [
    "genes['maskID'] = masks[genes['x'], genes['y']]"
   ],
   "metadata": {
    "collapsed": false,
    "pycharm": {
     "name": "#%%\n"
    }
   }
  },
  {
   "cell_type": "code",
   "execution_count": 22,
   "outputs": [],
   "source": [
    "genes['maskCellpose'] = genes.apply (lambda row: maskCellpose(row, masks), axis=1)"
   ],
   "metadata": {
    "collapsed": false,
    "pycharm": {
     "name": "#%%\n"
    }
   }
  },
  {
   "cell_type": "code",
   "execution_count": 23,
   "outputs": [
    {
     "data": {
      "text/plain": "   spotID    x    y  intensity  nearestNucID  status  maskID     channel  \\\n0       1  921  772   24.67889           127       0       0  R1_YFP_UBC   \n1       2  639  381   24.67972            65       0       0  R1_YFP_UBC   \n2       3  380  834   24.68205           194       0       0  R1_YFP_UBC   \n3       4  461  912   24.68855           188       0       0  R1_YFP_UBC   \n4       5  953  106   24.68930            37       0       0  R1_YFP_UBC   \n\n   distanceToNuc  maskCellpose  \n0      149.96670           184  \n1       34.52535           129  \n2      108.90820             0  \n3       36.22154           101  \n4      384.29280             0  ",
      "text/html": "<div>\n<style scoped>\n    .dataframe tbody tr th:only-of-type {\n        vertical-align: middle;\n    }\n\n    .dataframe tbody tr th {\n        vertical-align: top;\n    }\n\n    .dataframe thead th {\n        text-align: right;\n    }\n</style>\n<table border=\"1\" class=\"dataframe\">\n  <thead>\n    <tr style=\"text-align: right;\">\n      <th></th>\n      <th>spotID</th>\n      <th>x</th>\n      <th>y</th>\n      <th>intensity</th>\n      <th>nearestNucID</th>\n      <th>status</th>\n      <th>maskID</th>\n      <th>channel</th>\n      <th>distanceToNuc</th>\n      <th>maskCellpose</th>\n    </tr>\n  </thead>\n  <tbody>\n    <tr>\n      <th>0</th>\n      <td>1</td>\n      <td>921</td>\n      <td>772</td>\n      <td>24.67889</td>\n      <td>127</td>\n      <td>0</td>\n      <td>0</td>\n      <td>R1_YFP_UBC</td>\n      <td>149.96670</td>\n      <td>184</td>\n    </tr>\n    <tr>\n      <th>1</th>\n      <td>2</td>\n      <td>639</td>\n      <td>381</td>\n      <td>24.67972</td>\n      <td>65</td>\n      <td>0</td>\n      <td>0</td>\n      <td>R1_YFP_UBC</td>\n      <td>34.52535</td>\n      <td>129</td>\n    </tr>\n    <tr>\n      <th>2</th>\n      <td>3</td>\n      <td>380</td>\n      <td>834</td>\n      <td>24.68205</td>\n      <td>194</td>\n      <td>0</td>\n      <td>0</td>\n      <td>R1_YFP_UBC</td>\n      <td>108.90820</td>\n      <td>0</td>\n    </tr>\n    <tr>\n      <th>3</th>\n      <td>4</td>\n      <td>461</td>\n      <td>912</td>\n      <td>24.68855</td>\n      <td>188</td>\n      <td>0</td>\n      <td>0</td>\n      <td>R1_YFP_UBC</td>\n      <td>36.22154</td>\n      <td>101</td>\n    </tr>\n    <tr>\n      <th>4</th>\n      <td>5</td>\n      <td>953</td>\n      <td>106</td>\n      <td>24.68930</td>\n      <td>37</td>\n      <td>0</td>\n      <td>0</td>\n      <td>R1_YFP_UBC</td>\n      <td>384.29280</td>\n      <td>0</td>\n    </tr>\n  </tbody>\n</table>\n</div>"
     },
     "execution_count": 23,
     "metadata": {},
     "output_type": "execute_result"
    }
   ],
   "source": [
    "genes.head(5)"
   ],
   "metadata": {
    "collapsed": false,
    "pycharm": {
     "name": "#%%\n"
    }
   }
  },
  {
   "cell_type": "code",
   "execution_count": 20,
   "outputs": [
    {
     "data": {
      "text/plain": "(7187, 7146)"
     },
     "execution_count": 20,
     "metadata": {},
     "output_type": "execute_result"
    }
   ],
   "source": [],
   "metadata": {
    "collapsed": false,
    "pycharm": {
     "name": "#%%\n"
    }
   }
  },
  {
   "cell_type": "code",
   "execution_count": 30,
   "outputs": [
    {
     "data": {
      "text/plain": "             Gene  Threshold\n0      R1_YFP_UBC         37\n1    R1_CY3_WNT5A         90\n2   R1_A594_DDX58         30\n3      R1_CY5_AXL         60\n4      R2_YFP_UBC         40\n5     R2_CY3_NGFR         45\n6     R2_A594_FN1         55\n7     R2_CY5_EGFR         45\n8      R3_YFP_UBC         40\n9    R3_CY3_ITGA3         45\n10   R3_A594_MMP1         45\n11    R3_CY5_MITF         35",
      "text/html": "<div>\n<style scoped>\n    .dataframe tbody tr th:only-of-type {\n        vertical-align: middle;\n    }\n\n    .dataframe tbody tr th {\n        vertical-align: top;\n    }\n\n    .dataframe thead th {\n        text-align: right;\n    }\n</style>\n<table border=\"1\" class=\"dataframe\">\n  <thead>\n    <tr style=\"text-align: right;\">\n      <th></th>\n      <th>Gene</th>\n      <th>Threshold</th>\n    </tr>\n  </thead>\n  <tbody>\n    <tr>\n      <th>0</th>\n      <td>R1_YFP_UBC</td>\n      <td>37</td>\n    </tr>\n    <tr>\n      <th>1</th>\n      <td>R1_CY3_WNT5A</td>\n      <td>90</td>\n    </tr>\n    <tr>\n      <th>2</th>\n      <td>R1_A594_DDX58</td>\n      <td>30</td>\n    </tr>\n    <tr>\n      <th>3</th>\n      <td>R1_CY5_AXL</td>\n      <td>60</td>\n    </tr>\n    <tr>\n      <th>4</th>\n      <td>R2_YFP_UBC</td>\n      <td>40</td>\n    </tr>\n    <tr>\n      <th>5</th>\n      <td>R2_CY3_NGFR</td>\n      <td>45</td>\n    </tr>\n    <tr>\n      <th>6</th>\n      <td>R2_A594_FN1</td>\n      <td>55</td>\n    </tr>\n    <tr>\n      <th>7</th>\n      <td>R2_CY5_EGFR</td>\n      <td>45</td>\n    </tr>\n    <tr>\n      <th>8</th>\n      <td>R3_YFP_UBC</td>\n      <td>40</td>\n    </tr>\n    <tr>\n      <th>9</th>\n      <td>R3_CY3_ITGA3</td>\n      <td>45</td>\n    </tr>\n    <tr>\n      <th>10</th>\n      <td>R3_A594_MMP1</td>\n      <td>45</td>\n    </tr>\n    <tr>\n      <th>11</th>\n      <td>R3_CY5_MITF</td>\n      <td>35</td>\n    </tr>\n  </tbody>\n</table>\n</div>"
     },
     "execution_count": 30,
     "metadata": {},
     "output_type": "execute_result"
    }
   ],
   "source": [
    "thresholds = pd.read_csv(os.path.join(macbookpath, 'GenesThresholds.csv'))\n",
    "thresholds"
   ],
   "metadata": {
    "collapsed": false,
    "pycharm": {
     "name": "#%%\n"
    }
   }
  },
  {
   "cell_type": "code",
   "execution_count": null,
   "outputs": [],
   "source": [
    "def intensityThreshold(row):\n",
    "    if row['channel'] == 'R1_YFP_UBC':\n",
    "        if row['intensity'] > 35:\n",
    "            return 1\n",
    "        else:\n",
    "            return 0\n",
    "    elif row['channel'] == 'R1_YFP_UBC':\n",
    "        if row['intensity'] > 35:\n",
    "            return 1\n",
    "        else:\n",
    "            return 0"
   ],
   "metadata": {
    "collapsed": false,
    "pycharm": {
     "name": "#%%\n"
    }
   }
  },
  {
   "cell_type": "code",
   "execution_count": 66,
   "outputs": [],
   "source": [
    "def intensityThreshold(row):\n",
    "    threshold = thresholds['Threshold'].loc[thresholds['Gene'] == row['channel']].iloc[0]\n",
    "    if row['intensity'] > threshold:\n",
    "        return 1\n",
    "    else:\n",
    "        return 0"
   ],
   "metadata": {
    "collapsed": false,
    "pycharm": {
     "name": "#%%\n"
    }
   }
  },
  {
   "cell_type": "code",
   "execution_count": 67,
   "outputs": [],
   "source": [
    "genes['aboveThreshold'] = genes.apply (lambda row: intensityThreshold(row), axis=1)"
   ],
   "metadata": {
    "collapsed": false,
    "pycharm": {
     "name": "#%%\n"
    }
   }
  },
  {
   "cell_type": "code",
   "execution_count": 68,
   "outputs": [
    {
     "data": {
      "text/plain": "   spotID    x    y  intensity  nearestNucID  status  maskID     channel  \\\n0       1  921  772   24.67889           127       0       0  R1_YFP_UBC   \n1       2  639  381   24.67972            65       0       0  R1_YFP_UBC   \n2       3  380  834   24.68205           194       0       0  R1_YFP_UBC   \n3       4  461  912   24.68855           188       0       0  R1_YFP_UBC   \n4       5  953  106   24.68930            37       0       0  R1_YFP_UBC   \n\n   distanceToNuc  maskCellpose  aboveThreshold  \n0      149.96670           184               0  \n1       34.52535           129               0  \n2      108.90820             0               0  \n3       36.22154           101               0  \n4      384.29280             0               0  ",
      "text/html": "<div>\n<style scoped>\n    .dataframe tbody tr th:only-of-type {\n        vertical-align: middle;\n    }\n\n    .dataframe tbody tr th {\n        vertical-align: top;\n    }\n\n    .dataframe thead th {\n        text-align: right;\n    }\n</style>\n<table border=\"1\" class=\"dataframe\">\n  <thead>\n    <tr style=\"text-align: right;\">\n      <th></th>\n      <th>spotID</th>\n      <th>x</th>\n      <th>y</th>\n      <th>intensity</th>\n      <th>nearestNucID</th>\n      <th>status</th>\n      <th>maskID</th>\n      <th>channel</th>\n      <th>distanceToNuc</th>\n      <th>maskCellpose</th>\n      <th>aboveThreshold</th>\n    </tr>\n  </thead>\n  <tbody>\n    <tr>\n      <th>0</th>\n      <td>1</td>\n      <td>921</td>\n      <td>772</td>\n      <td>24.67889</td>\n      <td>127</td>\n      <td>0</td>\n      <td>0</td>\n      <td>R1_YFP_UBC</td>\n      <td>149.96670</td>\n      <td>184</td>\n      <td>0</td>\n    </tr>\n    <tr>\n      <th>1</th>\n      <td>2</td>\n      <td>639</td>\n      <td>381</td>\n      <td>24.67972</td>\n      <td>65</td>\n      <td>0</td>\n      <td>0</td>\n      <td>R1_YFP_UBC</td>\n      <td>34.52535</td>\n      <td>129</td>\n      <td>0</td>\n    </tr>\n    <tr>\n      <th>2</th>\n      <td>3</td>\n      <td>380</td>\n      <td>834</td>\n      <td>24.68205</td>\n      <td>194</td>\n      <td>0</td>\n      <td>0</td>\n      <td>R1_YFP_UBC</td>\n      <td>108.90820</td>\n      <td>0</td>\n      <td>0</td>\n    </tr>\n    <tr>\n      <th>3</th>\n      <td>4</td>\n      <td>461</td>\n      <td>912</td>\n      <td>24.68855</td>\n      <td>188</td>\n      <td>0</td>\n      <td>0</td>\n      <td>R1_YFP_UBC</td>\n      <td>36.22154</td>\n      <td>101</td>\n      <td>0</td>\n    </tr>\n    <tr>\n      <th>4</th>\n      <td>5</td>\n      <td>953</td>\n      <td>106</td>\n      <td>24.68930</td>\n      <td>37</td>\n      <td>0</td>\n      <td>0</td>\n      <td>R1_YFP_UBC</td>\n      <td>384.29280</td>\n      <td>0</td>\n      <td>0</td>\n    </tr>\n  </tbody>\n</table>\n</div>"
     },
     "execution_count": 68,
     "metadata": {},
     "output_type": "execute_result"
    }
   ],
   "source": [
    "genes.head(5)"
   ],
   "metadata": {
    "collapsed": false,
    "pycharm": {
     "name": "#%%\n"
    }
   }
  },
  {
   "cell_type": "code",
   "execution_count": null,
   "outputs": [],
   "source": [],
   "metadata": {
    "collapsed": false,
    "pycharm": {
     "name": "#%%\n"
    }
   }
  }
 ],
 "metadata": {
  "kernelspec": {
   "display_name": "Python 3.9 (tensorflow)",
   "language": "python",
   "name": "tensorflow"
  },
  "language_info": {
   "codemirror_mode": {
    "name": "ipython",
    "version": 3
   },
   "file_extension": ".py",
   "mimetype": "text/x-python",
   "name": "python",
   "nbconvert_exporter": "python",
   "pygments_lexer": "ipython3",
   "version": "3.9.10"
  }
 },
 "nbformat": 4,
 "nbformat_minor": 5
}